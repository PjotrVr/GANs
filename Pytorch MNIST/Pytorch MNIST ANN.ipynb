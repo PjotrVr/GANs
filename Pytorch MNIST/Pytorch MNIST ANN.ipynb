{
 "cells": [
  {
   "cell_type": "code",
   "execution_count": 1,
   "id": "e3f11dc2",
   "metadata": {},
   "outputs": [],
   "source": [
    "### This idea for code is from Aladdin Persson, following this video:\n",
    "### https://www.youtube.com/watch?v=OljTVUVzPpM&ab_channel=AladdinPersson\n",
    "### His Github profile is https://github.com/aladdinpersson\n",
    "### Check his youtube, he makes a lot of quality content :D"
   ]
  },
  {
   "cell_type": "code",
   "execution_count": 2,
   "id": "2eb2c8ff",
   "metadata": {},
   "outputs": [],
   "source": [
    "import warnings\n",
    "warnings.filterwarnings(\"ignore\")\n",
    "\n",
    "from tqdm import tqdm\n",
    "\n",
    "import torch\n",
    "import torch.nn as nn\n",
    "import torch.nn.functional as F\n",
    "import torch.optim as optim\n",
    "from torch.utils.data import DataLoader\n",
    "from torch.utils.tensorboard import SummaryWriter\n",
    "\n",
    "import torchvision\n",
    "import torchvision.datasets as datasets\n",
    "import torchvision.transforms as transforms"
   ]
  },
  {
   "cell_type": "code",
   "execution_count": 3,
   "id": "4904b304",
   "metadata": {},
   "outputs": [],
   "source": [
    "# Hyperparameters, GANs are really hyperparameter dependent, which means\n",
    "# even little tweaks can give vastly different results\n",
    "DEVICE = \"cuda\" if torch.cuda.is_available() else \"cpu\"\n",
    "# Andrej Karpathy says that for Adam this learning rate is the best,\n",
    "# will test later other learning rates\n",
    "LEARNING_RATE = 3e-4\n",
    "# Can be 32, 64, 128, 256\n",
    "Z_DIM = 64 \n",
    "# MNIST images are (28, 28, 1), they're grayscale\n",
    "IMAGE_DIM = 784\n",
    "BATCH_SIZE = 32\n",
    "N_EPOCHS = 300"
   ]
  },
  {
   "cell_type": "code",
   "execution_count": 4,
   "id": "7a570e1a",
   "metadata": {},
   "outputs": [],
   "source": [
    "transforms = transforms.Compose([\n",
    "    transforms.ToTensor(),\n",
    "    transforms.Normalize((0.5,), (0.5, )),\n",
    "])"
   ]
  },
  {
   "cell_type": "code",
   "execution_count": 5,
   "id": "03a0be7c",
   "metadata": {},
   "outputs": [],
   "source": [
    "# Load data\n",
    "train_dataset = datasets.MNIST(root=\"dataset/\", train=True, transform=transforms, download=True)\n",
    "test_dataset = datasets.MNIST(root=\"dataset/\", train=False, transform=transforms, download=True)"
   ]
  },
  {
   "cell_type": "code",
   "execution_count": 6,
   "id": "c5b5876d",
   "metadata": {},
   "outputs": [],
   "source": [
    "# Create loaders\n",
    "train_loader = DataLoader(dataset=train_dataset, batch_size=BATCH_SIZE, shuffle=True)\n",
    "test_loader = DataLoader(dataset=test_dataset, batch_size=BATCH_SIZE, shuffle=True)"
   ]
  },
  {
   "cell_type": "code",
   "execution_count": 7,
   "id": "dd99a782",
   "metadata": {},
   "outputs": [],
   "source": [
    "# Classifier/discriminator\n",
    "\n",
    "class Discriminator(nn.Module):\n",
    "    def __init__(self, lr, image_dim):\n",
    "        super(Discriminator, self).__init__()\n",
    "        \n",
    "        self.disc = nn.Sequential(\n",
    "            nn.Linear(image_dim, 256),\n",
    "            nn.LeakyReLU(0.1),\n",
    "            \n",
    "            nn.Linear(256, 128),\n",
    "            nn.LeakyReLU(0.1),\n",
    "            \n",
    "            nn.Linear(128, 64),\n",
    "            nn.LeakyReLU(0.1),\n",
    "            \n",
    "            nn.Linear(64, 1),    \n",
    "            nn.Sigmoid(),\n",
    "        )\n",
    "        \n",
    "        self.optimizer = optim.Adam(self.parameters(), lr=lr)\n",
    "        \n",
    "    def forward(self, x):\n",
    "        return self.disc(x)"
   ]
  },
  {
   "cell_type": "code",
   "execution_count": 8,
   "id": "5aff963f",
   "metadata": {},
   "outputs": [],
   "source": [
    "class Generator(nn.Module):\n",
    "    # Z dim is dimension of latent noise that image will take\n",
    "    def __init__(self, lr, z_dim, image_dim):\n",
    "        super(Generator, self).__init__()\n",
    "        \n",
    "        self.gen = nn.Sequential(\n",
    "            nn.Linear(z_dim, 128),\n",
    "            nn.LeakyReLU(0.1),\n",
    "            \n",
    "            nn.Linear(128, 256),\n",
    "            nn.LeakyReLU(0.1),\n",
    "            \n",
    "            nn.Linear(256, 512),\n",
    "            nn.LeakyReLU(0.1),\n",
    "            \n",
    "            nn.Linear(512, image_dim),\n",
    "            \n",
    "            # Reason why we use tanh is because input data will be\n",
    "            # normalized between -1 and 1 and tanh gives output between\n",
    "            # -1 and 1\n",
    "            nn.Tanh(),\n",
    "        )\n",
    "        \n",
    "        self.optimizer = optim.Adam(self.parameters(), lr=lr)\n",
    "        \n",
    "    def forward(self, x):\n",
    "        return self.gen(x)"
   ]
  },
  {
   "cell_type": "code",
   "execution_count": 9,
   "id": "50f80bdc",
   "metadata": {},
   "outputs": [],
   "source": [
    "# Creating both models\n",
    "\n",
    "disc = Discriminator(LEARNING_RATE, IMAGE_DIM).to(device=DEVICE)\n",
    "gen = Generator(LEARNING_RATE, Z_DIM, IMAGE_DIM).to(device=DEVICE)\n",
    "\n",
    "loss = nn.BCELoss()"
   ]
  },
  {
   "cell_type": "code",
   "execution_count": 10,
   "id": "4838e945",
   "metadata": {},
   "outputs": [],
   "source": [
    "fixed_noise = torch.randn((BATCH_SIZE, Z_DIM)).to(device=DEVICE) "
   ]
  },
  {
   "cell_type": "code",
   "execution_count": 11,
   "id": "d170d0d3",
   "metadata": {},
   "outputs": [
    {
     "data": {
      "text/plain": [
       "tensor([[ 0.8789, -0.4796, -0.1513,  ..., -0.6579, -1.6687, -1.3628],\n",
       "        [ 0.1168, -0.5138, -0.3149,  ..., -1.1226, -0.0595,  0.8811],\n",
       "        [ 0.2026, -0.0054, -0.6356,  ..., -0.3585,  1.3443, -0.0915],\n",
       "        ...,\n",
       "        [-0.2249, -0.7607,  0.7849,  ..., -0.3795,  1.9600, -1.4074],\n",
       "        [-0.4690, -0.2048,  0.7049,  ..., -1.1894,  0.2237,  0.6776],\n",
       "        [-0.4158,  0.5008, -0.6208,  ...,  1.4327, -0.5239,  1.3919]])"
      ]
     },
     "execution_count": 11,
     "metadata": {},
     "output_type": "execute_result"
    }
   ],
   "source": [
    "fixed_noise"
   ]
  },
  {
   "cell_type": "code",
   "execution_count": 12,
   "id": "52603d9f",
   "metadata": {},
   "outputs": [
    {
     "data": {
      "text/plain": [
       "torch.Size([32, 64])"
      ]
     },
     "execution_count": 12,
     "metadata": {},
     "output_type": "execute_result"
    }
   ],
   "source": [
    "fixed_noise.shape"
   ]
  },
  {
   "cell_type": "code",
   "execution_count": 13,
   "id": "0037ea90",
   "metadata": {},
   "outputs": [],
   "source": [
    "writer_fake = SummaryWriter(f\"runs/GAN_MNIST/fake\")\n",
    "writer_real = SummaryWriter(f\"runs/GAN_MNIST/real\")\n",
    "step = 0"
   ]
  },
  {
   "cell_type": "code",
   "execution_count": 14,
   "id": "770a1966",
   "metadata": {},
   "outputs": [
    {
     "name": "stderr",
     "output_type": "stream",
     "text": [
      "  1%|          | 11/1875 [00:00<00:34, 53.94it/s]"
     ]
    },
    {
     "name": "stdout",
     "output_type": "stream",
     "text": [
      "Epoch: [0/300], Loss D: 0.6996756196022034, Loss G: 0.7555475831031799\n"
     ]
    },
    {
     "name": "stderr",
     "output_type": "stream",
     "text": [
      "100%|██████████| 1875/1875 [00:25<00:00, 74.32it/s]\n",
      "  0%|          | 7/1875 [00:00<00:29, 62.29it/s]"
     ]
    },
    {
     "name": "stdout",
     "output_type": "stream",
     "text": [
      "Epoch: [1/300], Loss D: 0.5957714319229126, Loss G: 1.0931205749511719\n"
     ]
    },
    {
     "name": "stderr",
     "output_type": "stream",
     "text": [
      "100%|██████████| 1875/1875 [00:27<00:00, 67.95it/s]\n",
      "  1%|          | 14/1875 [00:00<00:27, 67.59it/s]"
     ]
    },
    {
     "name": "stdout",
     "output_type": "stream",
     "text": [
      "Epoch: [2/300], Loss D: 0.6601113080978394, Loss G: 0.6969338059425354\n"
     ]
    },
    {
     "name": "stderr",
     "output_type": "stream",
     "text": [
      "100%|██████████| 1875/1875 [00:23<00:00, 79.07it/s]\n",
      "  1%|          | 16/1875 [00:00<00:24, 75.73it/s]"
     ]
    },
    {
     "name": "stdout",
     "output_type": "stream",
     "text": [
      "Epoch: [3/300], Loss D: 0.060395315289497375, Loss G: 6.646533012390137\n"
     ]
    },
    {
     "name": "stderr",
     "output_type": "stream",
     "text": [
      "100%|██████████| 1875/1875 [00:24<00:00, 76.80it/s]\n",
      "  0%|          | 7/1875 [00:00<00:29, 63.46it/s]"
     ]
    },
    {
     "name": "stdout",
     "output_type": "stream",
     "text": [
      "Epoch: [4/300], Loss D: 0.4211292862892151, Loss G: 1.9588615894317627\n"
     ]
    },
    {
     "name": "stderr",
     "output_type": "stream",
     "text": [
      "100%|██████████| 1875/1875 [00:22<00:00, 83.28it/s]\n",
      "  0%|          | 6/1875 [00:00<00:35, 53.06it/s]"
     ]
    },
    {
     "name": "stdout",
     "output_type": "stream",
     "text": [
      "Epoch: [5/300], Loss D: 0.34275949001312256, Loss G: 2.212878704071045\n"
     ]
    },
    {
     "name": "stderr",
     "output_type": "stream",
     "text": [
      "100%|██████████| 1875/1875 [00:23<00:00, 78.82it/s]\n",
      "  1%|          | 15/1875 [00:00<00:25, 74.29it/s]"
     ]
    },
    {
     "name": "stdout",
     "output_type": "stream",
     "text": [
      "Epoch: [6/300], Loss D: 0.30718910694122314, Loss G: 2.4906821250915527\n"
     ]
    },
    {
     "name": "stderr",
     "output_type": "stream",
     "text": [
      "100%|██████████| 1875/1875 [00:22<00:00, 83.09it/s]\n",
      "  1%|          | 16/1875 [00:00<00:24, 77.13it/s]"
     ]
    },
    {
     "name": "stdout",
     "output_type": "stream",
     "text": [
      "Epoch: [7/300], Loss D: 0.45992955565452576, Loss G: 1.992213487625122\n"
     ]
    },
    {
     "name": "stderr",
     "output_type": "stream",
     "text": [
      "100%|██████████| 1875/1875 [00:22<00:00, 81.92it/s]\n",
      "  1%|          | 12/1875 [00:00<00:31, 59.81it/s]"
     ]
    },
    {
     "name": "stdout",
     "output_type": "stream",
     "text": [
      "Epoch: [8/300], Loss D: 0.32854440808296204, Loss G: 2.158318519592285\n"
     ]
    },
    {
     "name": "stderr",
     "output_type": "stream",
     "text": [
      "100%|██████████| 1875/1875 [00:22<00:00, 83.55it/s]\n",
      "  1%|          | 14/1875 [00:00<00:26, 69.47it/s]"
     ]
    },
    {
     "name": "stdout",
     "output_type": "stream",
     "text": [
      "Epoch: [9/300], Loss D: 0.44234129786491394, Loss G: 1.2559282779693604\n"
     ]
    },
    {
     "name": "stderr",
     "output_type": "stream",
     "text": [
      "100%|██████████| 1875/1875 [00:22<00:00, 83.97it/s]\n",
      "  1%|          | 16/1875 [00:00<00:23, 78.52it/s]"
     ]
    },
    {
     "name": "stdout",
     "output_type": "stream",
     "text": [
      "Epoch: [10/300], Loss D: 0.41283929347991943, Loss G: 1.8396522998809814\n"
     ]
    },
    {
     "name": "stderr",
     "output_type": "stream",
     "text": [
      "100%|██████████| 1875/1875 [00:25<00:00, 74.12it/s]\n",
      "  0%|          | 8/1875 [00:00<00:25, 71.86it/s]"
     ]
    },
    {
     "name": "stdout",
     "output_type": "stream",
     "text": [
      "Epoch: [11/300], Loss D: 0.5766838788986206, Loss G: 1.9458320140838623\n"
     ]
    },
    {
     "name": "stderr",
     "output_type": "stream",
     "text": [
      "100%|██████████| 1875/1875 [00:25<00:00, 74.14it/s]\n",
      "  1%|          | 14/1875 [00:00<00:27, 67.50it/s]"
     ]
    },
    {
     "name": "stdout",
     "output_type": "stream",
     "text": [
      "Epoch: [12/300], Loss D: 0.68764328956604, Loss G: 1.129616379737854\n"
     ]
    },
    {
     "name": "stderr",
     "output_type": "stream",
     "text": [
      "100%|██████████| 1875/1875 [00:27<00:00, 68.63it/s]\n",
      "  0%|          | 7/1875 [00:00<00:29, 62.52it/s]"
     ]
    },
    {
     "name": "stdout",
     "output_type": "stream",
     "text": [
      "Epoch: [13/300], Loss D: 0.49336352944374084, Loss G: 1.1726375818252563\n"
     ]
    },
    {
     "name": "stderr",
     "output_type": "stream",
     "text": [
      "100%|██████████| 1875/1875 [00:25<00:00, 74.12it/s]\n",
      "  1%|          | 15/1875 [00:00<00:25, 72.55it/s]"
     ]
    },
    {
     "name": "stdout",
     "output_type": "stream",
     "text": [
      "Epoch: [14/300], Loss D: 0.500015914440155, Loss G: 1.2121028900146484\n"
     ]
    },
    {
     "name": "stderr",
     "output_type": "stream",
     "text": [
      "100%|██████████| 1875/1875 [00:32<00:00, 57.18it/s]\n",
      "  0%|          | 3/1875 [00:00<02:12, 14.16it/s]"
     ]
    },
    {
     "name": "stdout",
     "output_type": "stream",
     "text": [
      "Epoch: [15/300], Loss D: 0.49579113721847534, Loss G: 1.4331300258636475\n"
     ]
    },
    {
     "name": "stderr",
     "output_type": "stream",
     "text": [
      "100%|██████████| 1875/1875 [00:31<00:00, 59.70it/s]\n",
      "  0%|          | 5/1875 [00:00<00:39, 46.78it/s]"
     ]
    },
    {
     "name": "stdout",
     "output_type": "stream",
     "text": [
      "Epoch: [16/300], Loss D: 0.6925244331359863, Loss G: 1.1822292804718018\n"
     ]
    },
    {
     "name": "stderr",
     "output_type": "stream",
     "text": [
      "100%|██████████| 1875/1875 [00:29<00:00, 63.08it/s]\n",
      "  1%|          | 11/1875 [00:00<00:34, 53.78it/s]"
     ]
    },
    {
     "name": "stdout",
     "output_type": "stream",
     "text": [
      "Epoch: [17/300], Loss D: 0.5854364633560181, Loss G: 1.0955811738967896\n"
     ]
    },
    {
     "name": "stderr",
     "output_type": "stream",
     "text": [
      "100%|██████████| 1875/1875 [00:36<00:00, 50.95it/s]\n",
      "  0%|          | 5/1875 [00:00<00:42, 44.30it/s]"
     ]
    },
    {
     "name": "stdout",
     "output_type": "stream",
     "text": [
      "Epoch: [18/300], Loss D: 0.5874590873718262, Loss G: 1.7818783521652222\n"
     ]
    },
    {
     "name": "stderr",
     "output_type": "stream",
     "text": [
      "100%|██████████| 1875/1875 [00:40<00:00, 46.06it/s]\n",
      "  1%|          | 11/1875 [00:00<00:35, 52.82it/s]"
     ]
    },
    {
     "name": "stdout",
     "output_type": "stream",
     "text": [
      "Epoch: [19/300], Loss D: 0.5478755235671997, Loss G: 1.625963807106018\n"
     ]
    },
    {
     "name": "stderr",
     "output_type": "stream",
     "text": [
      "100%|██████████| 1875/1875 [00:37<00:00, 49.98it/s]\n",
      "  1%|          | 11/1875 [00:00<00:34, 54.80it/s]"
     ]
    },
    {
     "name": "stdout",
     "output_type": "stream",
     "text": [
      "Epoch: [20/300], Loss D: 0.5564242601394653, Loss G: 1.0275894403457642\n"
     ]
    },
    {
     "name": "stderr",
     "output_type": "stream",
     "text": [
      "100%|██████████| 1875/1875 [00:30<00:00, 62.29it/s]\n",
      "  1%|          | 11/1875 [00:00<00:35, 52.11it/s]"
     ]
    },
    {
     "name": "stdout",
     "output_type": "stream",
     "text": [
      "Epoch: [21/300], Loss D: 0.5393241047859192, Loss G: 1.048673152923584\n"
     ]
    },
    {
     "name": "stderr",
     "output_type": "stream",
     "text": [
      "100%|██████████| 1875/1875 [00:30<00:00, 60.82it/s]\n",
      "  0%|          | 6/1875 [00:00<00:35, 52.36it/s]"
     ]
    },
    {
     "name": "stdout",
     "output_type": "stream",
     "text": [
      "Epoch: [22/300], Loss D: 0.6382203102111816, Loss G: 1.1362674236297607\n"
     ]
    },
    {
     "name": "stderr",
     "output_type": "stream",
     "text": [
      "100%|██████████| 1875/1875 [00:35<00:00, 53.52it/s]\n",
      "  1%|          | 11/1875 [00:00<00:33, 54.86it/s]"
     ]
    },
    {
     "name": "stdout",
     "output_type": "stream",
     "text": [
      "Epoch: [23/300], Loss D: 0.4941332936286926, Loss G: 1.2133409976959229\n"
     ]
    },
    {
     "name": "stderr",
     "output_type": "stream",
     "text": [
      "100%|██████████| 1875/1875 [00:42<00:00, 44.63it/s]\n",
      "  1%|          | 10/1875 [00:00<00:39, 47.51it/s]"
     ]
    },
    {
     "name": "stdout",
     "output_type": "stream",
     "text": [
      "Epoch: [24/300], Loss D: 0.6034296751022339, Loss G: 1.0850648880004883\n"
     ]
    },
    {
     "name": "stderr",
     "output_type": "stream",
     "text": [
      "100%|██████████| 1875/1875 [00:31<00:00, 59.80it/s]\n",
      "  0%|          | 6/1875 [00:00<00:34, 54.69it/s]"
     ]
    },
    {
     "name": "stdout",
     "output_type": "stream",
     "text": [
      "Epoch: [25/300], Loss D: 0.5669388175010681, Loss G: 1.2411593198776245\n"
     ]
    },
    {
     "name": "stderr",
     "output_type": "stream",
     "text": [
      "100%|██████████| 1875/1875 [00:37<00:00, 50.46it/s]\n",
      "  0%|          | 6/1875 [00:00<00:35, 52.70it/s]"
     ]
    },
    {
     "name": "stdout",
     "output_type": "stream",
     "text": [
      "Epoch: [26/300], Loss D: 0.6383248567581177, Loss G: 1.2451671361923218\n"
     ]
    },
    {
     "name": "stderr",
     "output_type": "stream",
     "text": [
      "100%|██████████| 1875/1875 [00:38<00:00, 48.33it/s]\n",
      "  0%|          | 5/1875 [00:00<00:38, 49.16it/s]"
     ]
    },
    {
     "name": "stdout",
     "output_type": "stream",
     "text": [
      "Epoch: [27/300], Loss D: 0.5548655390739441, Loss G: 1.1749149560928345\n"
     ]
    },
    {
     "name": "stderr",
     "output_type": "stream",
     "text": [
      "100%|██████████| 1875/1875 [00:33<00:00, 56.76it/s]\n",
      "  1%|          | 12/1875 [00:00<00:33, 56.10it/s]"
     ]
    },
    {
     "name": "stdout",
     "output_type": "stream",
     "text": [
      "Epoch: [28/300], Loss D: 0.5206733345985413, Loss G: 1.1075845956802368\n"
     ]
    },
    {
     "name": "stderr",
     "output_type": "stream",
     "text": [
      "100%|██████████| 1875/1875 [00:45<00:00, 41.44it/s]\n",
      "  1%|          | 11/1875 [00:00<00:34, 53.48it/s]"
     ]
    },
    {
     "name": "stdout",
     "output_type": "stream",
     "text": [
      "Epoch: [29/300], Loss D: 0.49268031120300293, Loss G: 0.9446660876274109\n"
     ]
    },
    {
     "name": "stderr",
     "output_type": "stream",
     "text": [
      "100%|██████████| 1875/1875 [00:38<00:00, 49.12it/s]\n",
      "  1%|          | 11/1875 [00:00<00:34, 54.18it/s]"
     ]
    },
    {
     "name": "stdout",
     "output_type": "stream",
     "text": [
      "Epoch: [30/300], Loss D: 0.6003303527832031, Loss G: 1.3646917343139648\n"
     ]
    },
    {
     "name": "stderr",
     "output_type": "stream",
     "text": [
      "100%|██████████| 1875/1875 [00:28<00:00, 64.74it/s]\n",
      "  1%|          | 12/1875 [00:00<00:32, 57.80it/s]"
     ]
    },
    {
     "name": "stdout",
     "output_type": "stream",
     "text": [
      "Epoch: [31/300], Loss D: 0.6762596368789673, Loss G: 0.8294587135314941\n"
     ]
    },
    {
     "name": "stderr",
     "output_type": "stream",
     "text": [
      "100%|██████████| 1875/1875 [00:29<00:00, 62.93it/s]\n",
      "  0%|          | 6/1875 [00:00<00:36, 51.55it/s]"
     ]
    },
    {
     "name": "stdout",
     "output_type": "stream",
     "text": [
      "Epoch: [32/300], Loss D: 0.6272304058074951, Loss G: 1.0767415761947632\n"
     ]
    },
    {
     "name": "stderr",
     "output_type": "stream",
     "text": [
      "100%|██████████| 1875/1875 [00:46<00:00, 40.30it/s]\n",
      "  0%|          | 8/1875 [00:00<00:48, 38.68it/s]"
     ]
    },
    {
     "name": "stdout",
     "output_type": "stream",
     "text": [
      "Epoch: [33/300], Loss D: 0.6165226697921753, Loss G: 1.077573299407959\n"
     ]
    },
    {
     "name": "stderr",
     "output_type": "stream",
     "text": [
      "100%|██████████| 1875/1875 [00:39<00:00, 47.12it/s]\n",
      "  0%|          | 4/1875 [00:00<00:54, 34.27it/s]"
     ]
    },
    {
     "name": "stdout",
     "output_type": "stream",
     "text": [
      "Epoch: [34/300], Loss D: 0.5559262037277222, Loss G: 1.333921194076538\n"
     ]
    },
    {
     "name": "stderr",
     "output_type": "stream",
     "text": [
      "100%|██████████| 1875/1875 [00:44<00:00, 42.15it/s]\n",
      "  0%|          | 6/1875 [00:00<00:36, 51.74it/s]"
     ]
    },
    {
     "name": "stdout",
     "output_type": "stream",
     "text": [
      "Epoch: [35/300], Loss D: 0.43757137656211853, Loss G: 1.3442150354385376\n"
     ]
    },
    {
     "name": "stderr",
     "output_type": "stream",
     "text": [
      "100%|██████████| 1875/1875 [00:29<00:00, 63.55it/s]\n",
      "  1%|          | 12/1875 [00:00<00:31, 59.45it/s]"
     ]
    },
    {
     "name": "stdout",
     "output_type": "stream",
     "text": [
      "Epoch: [36/300], Loss D: 0.5938044786453247, Loss G: 1.316762924194336\n"
     ]
    },
    {
     "name": "stderr",
     "output_type": "stream",
     "text": [
      "100%|██████████| 1875/1875 [00:42<00:00, 44.50it/s]\n",
      "  0%|          | 4/1875 [00:00<00:54, 34.30it/s]"
     ]
    },
    {
     "name": "stdout",
     "output_type": "stream",
     "text": [
      "Epoch: [37/300], Loss D: 0.6141180992126465, Loss G: 0.9637941718101501\n"
     ]
    },
    {
     "name": "stderr",
     "output_type": "stream",
     "text": [
      "100%|██████████| 1875/1875 [00:43<00:00, 42.88it/s]\n",
      "  0%|          | 9/1875 [00:00<00:45, 41.42it/s]"
     ]
    },
    {
     "name": "stdout",
     "output_type": "stream",
     "text": [
      "Epoch: [38/300], Loss D: 0.6072766184806824, Loss G: 0.9045717716217041\n"
     ]
    },
    {
     "name": "stderr",
     "output_type": "stream",
     "text": [
      "100%|██████████| 1875/1875 [00:35<00:00, 52.88it/s]\n",
      "  0%|          | 5/1875 [00:00<00:39, 47.49it/s]"
     ]
    },
    {
     "name": "stdout",
     "output_type": "stream",
     "text": [
      "Epoch: [39/300], Loss D: 0.5638695955276489, Loss G: 1.224801778793335\n"
     ]
    },
    {
     "name": "stderr",
     "output_type": "stream",
     "text": [
      "100%|██████████| 1875/1875 [00:37<00:00, 49.45it/s]\n",
      "  1%|          | 11/1875 [00:00<00:35, 52.23it/s]"
     ]
    },
    {
     "name": "stdout",
     "output_type": "stream",
     "text": [
      "Epoch: [40/300], Loss D: 0.5432596206665039, Loss G: 1.1899476051330566\n"
     ]
    },
    {
     "name": "stderr",
     "output_type": "stream",
     "text": [
      "100%|██████████| 1875/1875 [00:35<00:00, 52.59it/s]\n",
      "  1%|          | 12/1875 [00:00<00:30, 60.59it/s]"
     ]
    },
    {
     "name": "stdout",
     "output_type": "stream",
     "text": [
      "Epoch: [41/300], Loss D: 0.4983328878879547, Loss G: 1.0349397659301758\n"
     ]
    },
    {
     "name": "stderr",
     "output_type": "stream",
     "text": [
      "100%|██████████| 1875/1875 [00:51<00:00, 36.11it/s]\n",
      "  0%|          | 5/1875 [00:00<01:22, 22.69it/s]"
     ]
    },
    {
     "name": "stdout",
     "output_type": "stream",
     "text": [
      "Epoch: [42/300], Loss D: 0.5778093338012695, Loss G: 1.0885497331619263\n"
     ]
    },
    {
     "name": "stderr",
     "output_type": "stream",
     "text": [
      "100%|██████████| 1875/1875 [00:46<00:00, 40.57it/s]\n",
      "  1%|          | 11/1875 [00:00<00:35, 52.87it/s]"
     ]
    },
    {
     "name": "stdout",
     "output_type": "stream",
     "text": [
      "Epoch: [43/300], Loss D: 0.5662378668785095, Loss G: 0.8208661079406738\n"
     ]
    },
    {
     "name": "stderr",
     "output_type": "stream",
     "text": [
      "100%|██████████| 1875/1875 [00:35<00:00, 52.48it/s]\n",
      "  1%|          | 13/1875 [00:00<00:29, 62.34it/s]"
     ]
    },
    {
     "name": "stdout",
     "output_type": "stream",
     "text": [
      "Epoch: [44/300], Loss D: 0.6322360038757324, Loss G: 1.0560894012451172\n"
     ]
    },
    {
     "name": "stderr",
     "output_type": "stream",
     "text": [
      "100%|██████████| 1875/1875 [00:38<00:00, 49.20it/s]\n",
      "  0%|          | 5/1875 [00:00<01:14, 25.04it/s]"
     ]
    },
    {
     "name": "stdout",
     "output_type": "stream",
     "text": [
      "Epoch: [45/300], Loss D: 0.6137290000915527, Loss G: 1.060161828994751\n"
     ]
    },
    {
     "name": "stderr",
     "output_type": "stream",
     "text": [
      "100%|██████████| 1875/1875 [00:39<00:00, 47.43it/s]\n",
      "  0%|          | 7/1875 [00:00<01:01, 30.48it/s]"
     ]
    },
    {
     "name": "stdout",
     "output_type": "stream",
     "text": [
      "Epoch: [46/300], Loss D: 0.6227477192878723, Loss G: 0.9388314485549927\n"
     ]
    },
    {
     "name": "stderr",
     "output_type": "stream",
     "text": [
      "100%|██████████| 1875/1875 [00:55<00:00, 33.53it/s]\n",
      "  0%|          | 3/1875 [00:00<01:23, 22.48it/s]"
     ]
    },
    {
     "name": "stdout",
     "output_type": "stream",
     "text": [
      "Epoch: [47/300], Loss D: 0.5792268514633179, Loss G: 1.0275180339813232\n"
     ]
    },
    {
     "name": "stderr",
     "output_type": "stream",
     "text": [
      "100%|██████████| 1875/1875 [00:49<00:00, 37.76it/s]\n",
      "  1%|          | 14/1875 [00:00<00:27, 67.06it/s]"
     ]
    },
    {
     "name": "stdout",
     "output_type": "stream",
     "text": [
      "Epoch: [48/300], Loss D: 0.6406526565551758, Loss G: 0.8777105808258057\n"
     ]
    },
    {
     "name": "stderr",
     "output_type": "stream",
     "text": [
      "100%|██████████| 1875/1875 [00:28<00:00, 66.37it/s]\n",
      "  0%|          | 6/1875 [00:00<00:35, 53.12it/s]"
     ]
    },
    {
     "name": "stdout",
     "output_type": "stream",
     "text": [
      "Epoch: [49/300], Loss D: 0.6430100202560425, Loss G: 0.8266493082046509\n"
     ]
    },
    {
     "name": "stderr",
     "output_type": "stream",
     "text": [
      "100%|██████████| 1875/1875 [00:28<00:00, 65.29it/s]\n",
      "  0%|          | 6/1875 [00:00<00:34, 53.87it/s]"
     ]
    },
    {
     "name": "stdout",
     "output_type": "stream",
     "text": [
      "Epoch: [50/300], Loss D: 0.6719082593917847, Loss G: 0.8073586225509644\n"
     ]
    },
    {
     "name": "stderr",
     "output_type": "stream",
     "text": [
      "100%|██████████| 1875/1875 [00:28<00:00, 65.19it/s]\n",
      "  1%|          | 12/1875 [00:00<00:33, 56.30it/s]"
     ]
    },
    {
     "name": "stdout",
     "output_type": "stream",
     "text": [
      "Epoch: [51/300], Loss D: 0.6627488136291504, Loss G: 0.8445826172828674\n"
     ]
    },
    {
     "name": "stderr",
     "output_type": "stream",
     "text": [
      "100%|██████████| 1875/1875 [00:30<00:00, 62.00it/s]\n",
      "  0%|          | 6/1875 [00:00<00:33, 55.42it/s]"
     ]
    },
    {
     "name": "stdout",
     "output_type": "stream",
     "text": [
      "Epoch: [52/300], Loss D: 0.7054747939109802, Loss G: 0.8440213203430176\n"
     ]
    },
    {
     "name": "stderr",
     "output_type": "stream",
     "text": [
      "100%|██████████| 1875/1875 [00:44<00:00, 42.16it/s]\n",
      "  0%|          | 5/1875 [00:00<01:15, 24.91it/s]"
     ]
    },
    {
     "name": "stdout",
     "output_type": "stream",
     "text": [
      "Epoch: [53/300], Loss D: 0.5423188209533691, Loss G: 0.9340136647224426\n"
     ]
    },
    {
     "name": "stderr",
     "output_type": "stream",
     "text": [
      "100%|██████████| 1875/1875 [00:43<00:00, 42.74it/s]\n",
      "  0%|          | 6/1875 [00:00<00:35, 52.20it/s]"
     ]
    },
    {
     "name": "stdout",
     "output_type": "stream",
     "text": [
      "Epoch: [54/300], Loss D: 0.621478796005249, Loss G: 0.9197033643722534\n"
     ]
    },
    {
     "name": "stderr",
     "output_type": "stream",
     "text": [
      "100%|██████████| 1875/1875 [00:38<00:00, 48.29it/s]\n",
      "  0%|          | 3/1875 [00:00<01:10, 26.62it/s]"
     ]
    },
    {
     "name": "stdout",
     "output_type": "stream",
     "text": [
      "Epoch: [55/300], Loss D: 0.6296182870864868, Loss G: 1.0656899213790894\n"
     ]
    },
    {
     "name": "stderr",
     "output_type": "stream",
     "text": [
      "100%|██████████| 1875/1875 [00:40<00:00, 46.87it/s]\n",
      "  0%|          | 6/1875 [00:00<00:34, 53.72it/s]"
     ]
    },
    {
     "name": "stdout",
     "output_type": "stream",
     "text": [
      "Epoch: [56/300], Loss D: 0.6232460737228394, Loss G: 1.0052316188812256\n"
     ]
    },
    {
     "name": "stderr",
     "output_type": "stream",
     "text": [
      "100%|██████████| 1875/1875 [00:46<00:00, 39.98it/s]\n",
      "  0%|          | 6/1875 [00:00<00:35, 52.79it/s]"
     ]
    },
    {
     "name": "stdout",
     "output_type": "stream",
     "text": [
      "Epoch: [57/300], Loss D: 0.6255899667739868, Loss G: 0.9426113367080688\n"
     ]
    },
    {
     "name": "stderr",
     "output_type": "stream",
     "text": [
      "100%|██████████| 1875/1875 [00:28<00:00, 65.87it/s]\n",
      "  0%|          | 6/1875 [00:00<00:33, 55.67it/s]"
     ]
    },
    {
     "name": "stdout",
     "output_type": "stream",
     "text": [
      "Epoch: [58/300], Loss D: 0.6847514510154724, Loss G: 0.9829434752464294\n"
     ]
    },
    {
     "name": "stderr",
     "output_type": "stream",
     "text": [
      "100%|██████████| 1875/1875 [00:42<00:00, 44.13it/s]\n",
      "  0%|          | 9/1875 [00:00<00:41, 44.63it/s]"
     ]
    },
    {
     "name": "stdout",
     "output_type": "stream",
     "text": [
      "Epoch: [59/300], Loss D: 0.5626893043518066, Loss G: 0.9453169703483582\n"
     ]
    },
    {
     "name": "stderr",
     "output_type": "stream",
     "text": [
      "100%|██████████| 1875/1875 [00:32<00:00, 58.29it/s]\n",
      "  1%|          | 13/1875 [00:00<00:29, 63.02it/s]"
     ]
    },
    {
     "name": "stdout",
     "output_type": "stream",
     "text": [
      "Epoch: [60/300], Loss D: 0.6479877233505249, Loss G: 0.7977156043052673\n"
     ]
    },
    {
     "name": "stderr",
     "output_type": "stream",
     "text": [
      "100%|██████████| 1875/1875 [00:31<00:00, 59.18it/s]\n",
      "  1%|          | 12/1875 [00:00<00:31, 60.06it/s]"
     ]
    },
    {
     "name": "stdout",
     "output_type": "stream",
     "text": [
      "Epoch: [61/300], Loss D: 0.5798386335372925, Loss G: 1.002354383468628\n"
     ]
    },
    {
     "name": "stderr",
     "output_type": "stream",
     "text": [
      "100%|██████████| 1875/1875 [00:30<00:00, 62.48it/s]\n",
      "  0%|          | 6/1875 [00:00<00:32, 56.65it/s]"
     ]
    },
    {
     "name": "stdout",
     "output_type": "stream",
     "text": [
      "Epoch: [62/300], Loss D: 0.6613583564758301, Loss G: 0.8151028156280518\n"
     ]
    },
    {
     "name": "stderr",
     "output_type": "stream",
     "text": [
      "100%|██████████| 1875/1875 [00:31<00:00, 59.88it/s]\n",
      "  0%|          | 6/1875 [00:00<00:33, 55.35it/s]"
     ]
    },
    {
     "name": "stdout",
     "output_type": "stream",
     "text": [
      "Epoch: [63/300], Loss D: 0.4660528898239136, Loss G: 1.2582348585128784\n"
     ]
    },
    {
     "name": "stderr",
     "output_type": "stream",
     "text": [
      "100%|██████████| 1875/1875 [00:33<00:00, 56.02it/s]\n",
      "  1%|          | 13/1875 [00:00<00:30, 61.04it/s]"
     ]
    },
    {
     "name": "stdout",
     "output_type": "stream",
     "text": [
      "Epoch: [64/300], Loss D: 0.6195182800292969, Loss G: 0.9044703245162964\n"
     ]
    },
    {
     "name": "stderr",
     "output_type": "stream",
     "text": [
      "100%|██████████| 1875/1875 [00:33<00:00, 55.26it/s]\n",
      "  0%|          | 9/1875 [00:00<00:42, 43.87it/s]"
     ]
    },
    {
     "name": "stdout",
     "output_type": "stream",
     "text": [
      "Epoch: [65/300], Loss D: 0.5122345089912415, Loss G: 0.9782889485359192\n"
     ]
    },
    {
     "name": "stderr",
     "output_type": "stream",
     "text": [
      "100%|██████████| 1875/1875 [00:45<00:00, 40.97it/s]\n",
      "  0%|          | 7/1875 [00:00<00:57, 32.37it/s]"
     ]
    },
    {
     "name": "stdout",
     "output_type": "stream",
     "text": [
      "Epoch: [66/300], Loss D: 0.6371196508407593, Loss G: 0.7362203001976013\n"
     ]
    },
    {
     "name": "stderr",
     "output_type": "stream",
     "text": [
      "100%|██████████| 1875/1875 [00:43<00:00, 42.65it/s]\n",
      "  0%|          | 4/1875 [00:00<00:56, 33.08it/s]"
     ]
    },
    {
     "name": "stdout",
     "output_type": "stream",
     "text": [
      "Epoch: [67/300], Loss D: 0.6013772487640381, Loss G: 1.016973614692688\n"
     ]
    },
    {
     "name": "stderr",
     "output_type": "stream",
     "text": [
      "100%|██████████| 1875/1875 [00:39<00:00, 47.04it/s]\n",
      "  0%|          | 6/1875 [00:00<01:03, 29.51it/s]"
     ]
    },
    {
     "name": "stdout",
     "output_type": "stream",
     "text": [
      "Epoch: [68/300], Loss D: 0.6067334413528442, Loss G: 0.9870932698249817\n"
     ]
    },
    {
     "name": "stderr",
     "output_type": "stream",
     "text": [
      "100%|██████████| 1875/1875 [00:58<00:00, 31.98it/s]\n",
      "  0%|          | 6/1875 [00:00<01:02, 30.00it/s]"
     ]
    },
    {
     "name": "stdout",
     "output_type": "stream",
     "text": [
      "Epoch: [69/300], Loss D: 0.614445686340332, Loss G: 1.0208832025527954\n"
     ]
    },
    {
     "name": "stderr",
     "output_type": "stream",
     "text": [
      "100%|██████████| 1875/1875 [00:49<00:00, 38.08it/s]\n",
      "  0%|          | 3/1875 [00:00<01:20, 23.22it/s]"
     ]
    },
    {
     "name": "stdout",
     "output_type": "stream",
     "text": [
      "Epoch: [70/300], Loss D: 0.6159942746162415, Loss G: 0.9768736362457275\n"
     ]
    },
    {
     "name": "stderr",
     "output_type": "stream",
     "text": [
      "100%|██████████| 1875/1875 [00:32<00:00, 58.12it/s]\n",
      "  1%|          | 13/1875 [00:00<00:29, 62.78it/s]"
     ]
    },
    {
     "name": "stdout",
     "output_type": "stream",
     "text": [
      "Epoch: [71/300], Loss D: 0.6064995527267456, Loss G: 0.9462401866912842\n"
     ]
    },
    {
     "name": "stderr",
     "output_type": "stream",
     "text": [
      "100%|██████████| 1875/1875 [00:45<00:00, 41.22it/s]\n",
      "  0%|          | 3/1875 [00:00<01:22, 22.81it/s]"
     ]
    },
    {
     "name": "stdout",
     "output_type": "stream",
     "text": [
      "Epoch: [72/300], Loss D: 0.6013659238815308, Loss G: 1.0579317808151245\n"
     ]
    },
    {
     "name": "stderr",
     "output_type": "stream",
     "text": [
      "100%|██████████| 1875/1875 [00:46<00:00, 40.44it/s]\n",
      "  0%|          | 5/1875 [00:00<01:21, 22.94it/s]"
     ]
    },
    {
     "name": "stdout",
     "output_type": "stream",
     "text": [
      "Epoch: [73/300], Loss D: 0.5415388345718384, Loss G: 1.039033055305481\n"
     ]
    },
    {
     "name": "stderr",
     "output_type": "stream",
     "text": [
      "100%|██████████| 1875/1875 [00:58<00:00, 31.83it/s]\n",
      "  0%|          | 7/1875 [00:00<00:58, 31.99it/s]"
     ]
    },
    {
     "name": "stdout",
     "output_type": "stream",
     "text": [
      "Epoch: [74/300], Loss D: 0.6717276573181152, Loss G: 0.9082936644554138\n"
     ]
    },
    {
     "name": "stderr",
     "output_type": "stream",
     "text": [
      "100%|██████████| 1875/1875 [00:57<00:00, 32.44it/s]\n",
      "  1%|          | 12/1875 [00:00<00:33, 55.86it/s]"
     ]
    },
    {
     "name": "stdout",
     "output_type": "stream",
     "text": [
      "Epoch: [75/300], Loss D: 0.6448760032653809, Loss G: 0.9349206686019897\n"
     ]
    },
    {
     "name": "stderr",
     "output_type": "stream",
     "text": [
      "100%|██████████| 1875/1875 [00:45<00:00, 41.53it/s]\n",
      "  1%|          | 12/1875 [00:00<00:32, 57.61it/s]"
     ]
    },
    {
     "name": "stdout",
     "output_type": "stream",
     "text": [
      "Epoch: [76/300], Loss D: 0.6004478335380554, Loss G: 0.8432691693305969\n"
     ]
    },
    {
     "name": "stderr",
     "output_type": "stream",
     "text": [
      "100%|██████████| 1875/1875 [00:32<00:00, 57.43it/s]\n",
      "  0%|          | 5/1875 [00:00<00:42, 43.91it/s]"
     ]
    },
    {
     "name": "stdout",
     "output_type": "stream",
     "text": [
      "Epoch: [77/300], Loss D: 0.5460836887359619, Loss G: 1.1042832136154175\n"
     ]
    },
    {
     "name": "stderr",
     "output_type": "stream",
     "text": [
      "100%|██████████| 1875/1875 [00:34<00:00, 54.57it/s]\n",
      "  1%|          | 11/1875 [00:00<00:36, 51.60it/s]"
     ]
    },
    {
     "name": "stdout",
     "output_type": "stream",
     "text": [
      "Epoch: [78/300], Loss D: 0.6029647588729858, Loss G: 1.0204447507858276\n"
     ]
    },
    {
     "name": "stderr",
     "output_type": "stream",
     "text": [
      "100%|██████████| 1875/1875 [00:35<00:00, 52.76it/s]\n",
      "  0%|          | 5/1875 [00:00<00:40, 46.70it/s]"
     ]
    },
    {
     "name": "stdout",
     "output_type": "stream",
     "text": [
      "Epoch: [79/300], Loss D: 0.5617390871047974, Loss G: 1.0024713277816772\n"
     ]
    },
    {
     "name": "stderr",
     "output_type": "stream",
     "text": [
      "100%|██████████| 1875/1875 [00:30<00:00, 60.64it/s]\n",
      "  0%|          | 6/1875 [00:00<00:34, 54.13it/s]"
     ]
    },
    {
     "name": "stdout",
     "output_type": "stream",
     "text": [
      "Epoch: [80/300], Loss D: 0.6207679510116577, Loss G: 0.9484924077987671\n"
     ]
    },
    {
     "name": "stderr",
     "output_type": "stream",
     "text": [
      "100%|██████████| 1875/1875 [00:35<00:00, 53.48it/s]\n",
      "  1%|          | 13/1875 [00:00<00:30, 61.30it/s]"
     ]
    },
    {
     "name": "stdout",
     "output_type": "stream",
     "text": [
      "Epoch: [81/300], Loss D: 0.5821322798728943, Loss G: 0.9345516562461853\n"
     ]
    },
    {
     "name": "stderr",
     "output_type": "stream",
     "text": [
      "100%|██████████| 1875/1875 [00:47<00:00, 39.08it/s]\n",
      "  1%|          | 13/1875 [00:00<00:30, 61.75it/s]"
     ]
    },
    {
     "name": "stdout",
     "output_type": "stream",
     "text": [
      "Epoch: [82/300], Loss D: 0.6259913444519043, Loss G: 1.040410041809082\n"
     ]
    },
    {
     "name": "stderr",
     "output_type": "stream",
     "text": [
      "100%|██████████| 1875/1875 [00:54<00:00, 34.16it/s]\n",
      "  1%|          | 11/1875 [00:00<00:35, 53.05it/s]"
     ]
    },
    {
     "name": "stdout",
     "output_type": "stream",
     "text": [
      "Epoch: [83/300], Loss D: 0.627638041973114, Loss G: 0.9150105714797974\n"
     ]
    },
    {
     "name": "stderr",
     "output_type": "stream",
     "text": [
      "100%|██████████| 1875/1875 [00:44<00:00, 41.88it/s]\n",
      "  1%|          | 13/1875 [00:00<00:30, 60.99it/s]"
     ]
    },
    {
     "name": "stdout",
     "output_type": "stream",
     "text": [
      "Epoch: [84/300], Loss D: 0.6462560892105103, Loss G: 1.2355045080184937\n"
     ]
    },
    {
     "name": "stderr",
     "output_type": "stream",
     "text": [
      "100%|██████████| 1875/1875 [00:34<00:00, 53.73it/s]\n",
      "  1%|          | 13/1875 [00:00<00:30, 61.73it/s]"
     ]
    },
    {
     "name": "stdout",
     "output_type": "stream",
     "text": [
      "Epoch: [85/300], Loss D: 0.5670509338378906, Loss G: 0.9655475616455078\n"
     ]
    },
    {
     "name": "stderr",
     "output_type": "stream",
     "text": [
      "100%|██████████| 1875/1875 [00:47<00:00, 39.09it/s]\n",
      "  1%|          | 12/1875 [00:00<00:32, 56.96it/s]"
     ]
    },
    {
     "name": "stdout",
     "output_type": "stream",
     "text": [
      "Epoch: [86/300], Loss D: 0.6100747585296631, Loss G: 1.0277892351150513\n"
     ]
    },
    {
     "name": "stderr",
     "output_type": "stream",
     "text": [
      "100%|██████████| 1875/1875 [00:29<00:00, 62.72it/s]\n",
      "  0%|          | 5/1875 [00:00<00:44, 41.76it/s]"
     ]
    },
    {
     "name": "stdout",
     "output_type": "stream",
     "text": [
      "Epoch: [87/300], Loss D: 0.6139664649963379, Loss G: 0.9847965240478516\n"
     ]
    },
    {
     "name": "stderr",
     "output_type": "stream",
     "text": [
      "100%|██████████| 1875/1875 [01:00<00:00, 30.77it/s]\n",
      "  0%|          | 5/1875 [00:00<01:29, 20.81it/s]"
     ]
    },
    {
     "name": "stdout",
     "output_type": "stream",
     "text": [
      "Epoch: [88/300], Loss D: 0.6084839105606079, Loss G: 0.9615843892097473\n"
     ]
    },
    {
     "name": "stderr",
     "output_type": "stream",
     "text": [
      "100%|██████████| 1875/1875 [00:44<00:00, 41.98it/s]\n",
      "  1%|          | 12/1875 [00:00<00:32, 57.14it/s]"
     ]
    },
    {
     "name": "stdout",
     "output_type": "stream",
     "text": [
      "Epoch: [89/300], Loss D: 0.594127893447876, Loss G: 0.9617017507553101\n"
     ]
    },
    {
     "name": "stderr",
     "output_type": "stream",
     "text": [
      "100%|██████████| 1875/1875 [00:50<00:00, 37.27it/s]\n",
      "  1%|          | 10/1875 [00:00<00:37, 49.12it/s]"
     ]
    },
    {
     "name": "stdout",
     "output_type": "stream",
     "text": [
      "Epoch: [90/300], Loss D: 0.5984911322593689, Loss G: 0.8497660160064697\n"
     ]
    },
    {
     "name": "stderr",
     "output_type": "stream",
     "text": [
      "100%|██████████| 1875/1875 [00:51<00:00, 36.17it/s]\n",
      "  0%|          | 5/1875 [00:00<01:15, 24.86it/s]"
     ]
    },
    {
     "name": "stdout",
     "output_type": "stream",
     "text": [
      "Epoch: [91/300], Loss D: 0.5799427628517151, Loss G: 0.9975433945655823\n"
     ]
    },
    {
     "name": "stderr",
     "output_type": "stream",
     "text": [
      "100%|██████████| 1875/1875 [00:53<00:00, 34.89it/s]\n",
      "  0%|          | 6/1875 [00:00<01:05, 28.64it/s]"
     ]
    },
    {
     "name": "stdout",
     "output_type": "stream",
     "text": [
      "Epoch: [92/300], Loss D: 0.6066315174102783, Loss G: 1.0538361072540283\n"
     ]
    },
    {
     "name": "stderr",
     "output_type": "stream",
     "text": [
      "100%|██████████| 1875/1875 [00:50<00:00, 36.91it/s]\n",
      "  0%|          | 3/1875 [00:00<01:15, 24.85it/s]"
     ]
    },
    {
     "name": "stdout",
     "output_type": "stream",
     "text": [
      "Epoch: [93/300], Loss D: 0.6450895071029663, Loss G: 0.8288124799728394\n"
     ]
    },
    {
     "name": "stderr",
     "output_type": "stream",
     "text": [
      "100%|██████████| 1875/1875 [00:50<00:00, 36.95it/s]\n",
      "  1%|          | 13/1875 [00:00<00:29, 62.20it/s]"
     ]
    },
    {
     "name": "stdout",
     "output_type": "stream",
     "text": [
      "Epoch: [94/300], Loss D: 0.5691951513290405, Loss G: 1.053550124168396\n"
     ]
    },
    {
     "name": "stderr",
     "output_type": "stream",
     "text": [
      "100%|██████████| 1875/1875 [00:41<00:00, 45.17it/s]\n",
      "  0%|          | 2/1875 [00:00<01:55, 16.26it/s]"
     ]
    },
    {
     "name": "stdout",
     "output_type": "stream",
     "text": [
      "Epoch: [95/300], Loss D: 0.6242103576660156, Loss G: 1.044429063796997\n"
     ]
    },
    {
     "name": "stderr",
     "output_type": "stream",
     "text": [
      "100%|██████████| 1875/1875 [00:52<00:00, 35.84it/s]\n",
      "  0%|          | 3/1875 [00:00<01:10, 26.64it/s]"
     ]
    },
    {
     "name": "stdout",
     "output_type": "stream",
     "text": [
      "Epoch: [96/300], Loss D: 0.6081149578094482, Loss G: 0.9571635723114014\n"
     ]
    },
    {
     "name": "stderr",
     "output_type": "stream",
     "text": [
      "100%|██████████| 1875/1875 [00:53<00:00, 35.28it/s]\n",
      "  0%|          | 6/1875 [00:00<01:11, 26.26it/s]"
     ]
    },
    {
     "name": "stdout",
     "output_type": "stream",
     "text": [
      "Epoch: [97/300], Loss D: 0.6543560028076172, Loss G: 0.8820215463638306\n"
     ]
    },
    {
     "name": "stderr",
     "output_type": "stream",
     "text": [
      "100%|██████████| 1875/1875 [00:41<00:00, 45.45it/s]\n",
      "  0%|          | 7/1875 [00:00<00:55, 33.78it/s]"
     ]
    },
    {
     "name": "stdout",
     "output_type": "stream",
     "text": [
      "Epoch: [98/300], Loss D: 0.7653406858444214, Loss G: 0.8357430696487427\n"
     ]
    },
    {
     "name": "stderr",
     "output_type": "stream",
     "text": [
      "100%|██████████| 1875/1875 [01:01<00:00, 30.37it/s]\n",
      "  0%|          | 6/1875 [00:00<01:09, 26.97it/s]"
     ]
    },
    {
     "name": "stdout",
     "output_type": "stream",
     "text": [
      "Epoch: [99/300], Loss D: 0.5451624393463135, Loss G: 1.1275904178619385\n"
     ]
    },
    {
     "name": "stderr",
     "output_type": "stream",
     "text": [
      "100%|██████████| 1875/1875 [00:33<00:00, 55.75it/s]\n",
      "  1%|          | 12/1875 [00:00<00:33, 55.95it/s]"
     ]
    },
    {
     "name": "stdout",
     "output_type": "stream",
     "text": [
      "Epoch: [100/300], Loss D: 0.6100698113441467, Loss G: 1.1071550846099854\n"
     ]
    },
    {
     "name": "stderr",
     "output_type": "stream",
     "text": [
      "100%|██████████| 1875/1875 [00:30<00:00, 61.49it/s]\n",
      "  0%|          | 3/1875 [00:00<02:20, 13.32it/s]"
     ]
    },
    {
     "name": "stdout",
     "output_type": "stream",
     "text": [
      "Epoch: [101/300], Loss D: 0.5799565315246582, Loss G: 1.0284326076507568\n"
     ]
    },
    {
     "name": "stderr",
     "output_type": "stream",
     "text": [
      "100%|██████████| 1875/1875 [00:56<00:00, 32.98it/s]\n",
      "  1%|          | 11/1875 [00:00<00:34, 54.04it/s]"
     ]
    },
    {
     "name": "stdout",
     "output_type": "stream",
     "text": [
      "Epoch: [102/300], Loss D: 0.6548892259597778, Loss G: 0.7665410041809082\n"
     ]
    },
    {
     "name": "stderr",
     "output_type": "stream",
     "text": [
      "100%|██████████| 1875/1875 [00:39<00:00, 47.99it/s]\n",
      "  0%|          | 7/1875 [00:00<01:01, 30.36it/s]"
     ]
    },
    {
     "name": "stdout",
     "output_type": "stream",
     "text": [
      "Epoch: [103/300], Loss D: 0.5606046915054321, Loss G: 0.9538922309875488\n"
     ]
    },
    {
     "name": "stderr",
     "output_type": "stream",
     "text": [
      "100%|██████████| 1875/1875 [00:53<00:00, 35.24it/s]\n",
      "  0%|          | 6/1875 [00:00<01:09, 26.95it/s]"
     ]
    },
    {
     "name": "stdout",
     "output_type": "stream",
     "text": [
      "Epoch: [104/300], Loss D: 0.5863749384880066, Loss G: 0.8026636242866516\n"
     ]
    },
    {
     "name": "stderr",
     "output_type": "stream",
     "text": [
      "100%|██████████| 1875/1875 [00:43<00:00, 43.56it/s]\n",
      "  1%|          | 12/1875 [00:00<00:32, 57.18it/s]"
     ]
    },
    {
     "name": "stdout",
     "output_type": "stream",
     "text": [
      "Epoch: [105/300], Loss D: 0.5454025864601135, Loss G: 1.1370941400527954\n"
     ]
    },
    {
     "name": "stderr",
     "output_type": "stream",
     "text": [
      "100%|██████████| 1875/1875 [00:28<00:00, 66.12it/s]\n",
      "  1%|          | 13/1875 [00:00<00:29, 63.12it/s]"
     ]
    },
    {
     "name": "stdout",
     "output_type": "stream",
     "text": [
      "Epoch: [106/300], Loss D: 0.6315914392471313, Loss G: 0.9957166314125061\n"
     ]
    },
    {
     "name": "stderr",
     "output_type": "stream",
     "text": [
      "100%|██████████| 1875/1875 [00:58<00:00, 32.24it/s]\n",
      "  0%|          | 5/1875 [00:00<01:21, 22.98it/s]"
     ]
    },
    {
     "name": "stdout",
     "output_type": "stream",
     "text": [
      "Epoch: [107/300], Loss D: 0.549657940864563, Loss G: 1.0236637592315674\n"
     ]
    },
    {
     "name": "stderr",
     "output_type": "stream",
     "text": [
      "100%|██████████| 1875/1875 [00:45<00:00, 40.94it/s]\n",
      "  0%|          | 6/1875 [00:00<00:33, 55.63it/s]"
     ]
    },
    {
     "name": "stdout",
     "output_type": "stream",
     "text": [
      "Epoch: [108/300], Loss D: 0.5826007127761841, Loss G: 0.9510959386825562\n"
     ]
    },
    {
     "name": "stderr",
     "output_type": "stream",
     "text": [
      "100%|██████████| 1875/1875 [00:46<00:00, 40.70it/s]\n",
      "  0%|          | 7/1875 [00:00<00:54, 34.09it/s]"
     ]
    },
    {
     "name": "stdout",
     "output_type": "stream",
     "text": [
      "Epoch: [109/300], Loss D: 0.6004513502120972, Loss G: 1.1658884286880493\n"
     ]
    },
    {
     "name": "stderr",
     "output_type": "stream",
     "text": [
      "100%|██████████| 1875/1875 [00:38<00:00, 48.23it/s]\n",
      "  0%|          | 6/1875 [00:00<00:33, 55.46it/s]"
     ]
    },
    {
     "name": "stdout",
     "output_type": "stream",
     "text": [
      "Epoch: [110/300], Loss D: 0.6174405217170715, Loss G: 0.9105024337768555\n"
     ]
    },
    {
     "name": "stderr",
     "output_type": "stream",
     "text": [
      "100%|██████████| 1875/1875 [00:28<00:00, 66.63it/s]\n",
      "  0%|          | 6/1875 [00:00<00:35, 52.99it/s]"
     ]
    },
    {
     "name": "stdout",
     "output_type": "stream",
     "text": [
      "Epoch: [111/300], Loss D: 0.5788728594779968, Loss G: 0.9729651808738708\n"
     ]
    },
    {
     "name": "stderr",
     "output_type": "stream",
     "text": [
      "100%|██████████| 1875/1875 [00:35<00:00, 53.17it/s]\n",
      "  0%|          | 6/1875 [00:00<00:35, 52.89it/s]"
     ]
    },
    {
     "name": "stdout",
     "output_type": "stream",
     "text": [
      "Epoch: [112/300], Loss D: 0.6069916486740112, Loss G: 0.8348259925842285\n"
     ]
    },
    {
     "name": "stderr",
     "output_type": "stream",
     "text": [
      "100%|██████████| 1875/1875 [00:29<00:00, 63.43it/s]\n",
      "  0%|          | 6/1875 [00:00<00:35, 53.05it/s]"
     ]
    },
    {
     "name": "stdout",
     "output_type": "stream",
     "text": [
      "Epoch: [113/300], Loss D: 0.603670597076416, Loss G: 0.9778697490692139\n"
     ]
    },
    {
     "name": "stderr",
     "output_type": "stream",
     "text": [
      "100%|██████████| 1875/1875 [00:36<00:00, 50.70it/s]\n",
      "  0%|          | 3/1875 [00:00<01:15, 24.67it/s]"
     ]
    },
    {
     "name": "stdout",
     "output_type": "stream",
     "text": [
      "Epoch: [114/300], Loss D: 0.620124876499176, Loss G: 0.7869648933410645\n"
     ]
    },
    {
     "name": "stderr",
     "output_type": "stream",
     "text": [
      "100%|██████████| 1875/1875 [00:55<00:00, 33.72it/s]\n",
      "  1%|          | 13/1875 [00:00<00:29, 62.22it/s]"
     ]
    },
    {
     "name": "stdout",
     "output_type": "stream",
     "text": [
      "Epoch: [115/300], Loss D: 0.619117259979248, Loss G: 0.9492351412773132\n"
     ]
    },
    {
     "name": "stderr",
     "output_type": "stream",
     "text": [
      "100%|██████████| 1875/1875 [00:35<00:00, 52.34it/s]\n",
      "  0%|          | 5/1875 [00:00<01:21, 22.95it/s]"
     ]
    },
    {
     "name": "stdout",
     "output_type": "stream",
     "text": [
      "Epoch: [116/300], Loss D: 0.5645955801010132, Loss G: 0.9623005390167236\n"
     ]
    },
    {
     "name": "stderr",
     "output_type": "stream",
     "text": [
      "100%|██████████| 1875/1875 [00:46<00:00, 40.75it/s]\n",
      "  0%|          | 6/1875 [00:00<00:32, 57.42it/s]"
     ]
    },
    {
     "name": "stdout",
     "output_type": "stream",
     "text": [
      "Epoch: [117/300], Loss D: 0.6237320899963379, Loss G: 0.9942826628684998\n"
     ]
    },
    {
     "name": "stderr",
     "output_type": "stream",
     "text": [
      "100%|██████████| 1875/1875 [00:43<00:00, 42.79it/s]\n",
      "  0%|          | 6/1875 [00:00<00:34, 53.53it/s]"
     ]
    },
    {
     "name": "stdout",
     "output_type": "stream",
     "text": [
      "Epoch: [118/300], Loss D: 0.6415674686431885, Loss G: 0.9825851917266846\n"
     ]
    },
    {
     "name": "stderr",
     "output_type": "stream",
     "text": [
      "100%|██████████| 1875/1875 [00:30<00:00, 61.43it/s]\n",
      "  0%|          | 6/1875 [00:00<00:34, 54.35it/s]"
     ]
    },
    {
     "name": "stdout",
     "output_type": "stream",
     "text": [
      "Epoch: [119/300], Loss D: 0.5332052707672119, Loss G: 1.1046347618103027\n"
     ]
    },
    {
     "name": "stderr",
     "output_type": "stream",
     "text": [
      "100%|██████████| 1875/1875 [00:55<00:00, 34.04it/s]\n",
      "  0%|          | 6/1875 [00:00<01:06, 28.05it/s]"
     ]
    },
    {
     "name": "stdout",
     "output_type": "stream",
     "text": [
      "Epoch: [120/300], Loss D: 0.587421715259552, Loss G: 0.8864984512329102\n"
     ]
    },
    {
     "name": "stderr",
     "output_type": "stream",
     "text": [
      "100%|██████████| 1875/1875 [00:30<00:00, 61.36it/s]\n",
      "  1%|          | 13/1875 [00:00<00:30, 60.85it/s]"
     ]
    },
    {
     "name": "stdout",
     "output_type": "stream",
     "text": [
      "Epoch: [121/300], Loss D: 0.543887734413147, Loss G: 1.1426892280578613\n"
     ]
    },
    {
     "name": "stderr",
     "output_type": "stream",
     "text": [
      "100%|██████████| 1875/1875 [00:44<00:00, 42.51it/s]\n",
      "  0%|          | 5/1875 [00:00<00:41, 45.18it/s]"
     ]
    },
    {
     "name": "stdout",
     "output_type": "stream",
     "text": [
      "Epoch: [122/300], Loss D: 0.6488229036331177, Loss G: 0.9352898597717285\n"
     ]
    },
    {
     "name": "stderr",
     "output_type": "stream",
     "text": [
      "100%|██████████| 1875/1875 [00:34<00:00, 54.12it/s]\n",
      "  0%|          | 3/1875 [00:00<01:21, 23.11it/s]"
     ]
    },
    {
     "name": "stdout",
     "output_type": "stream",
     "text": [
      "Epoch: [123/300], Loss D: 0.6359965205192566, Loss G: 0.7209768295288086\n"
     ]
    },
    {
     "name": "stderr",
     "output_type": "stream",
     "text": [
      "100%|██████████| 1875/1875 [01:01<00:00, 30.26it/s]\n",
      "  0%|          | 3/1875 [00:00<01:15, 24.76it/s]"
     ]
    },
    {
     "name": "stdout",
     "output_type": "stream",
     "text": [
      "Epoch: [124/300], Loss D: 0.5994786024093628, Loss G: 1.0192220211029053\n"
     ]
    },
    {
     "name": "stderr",
     "output_type": "stream",
     "text": [
      "100%|██████████| 1875/1875 [00:40<00:00, 45.76it/s]\n",
      "  0%|          | 6/1875 [00:00<00:33, 55.92it/s]"
     ]
    },
    {
     "name": "stdout",
     "output_type": "stream",
     "text": [
      "Epoch: [125/300], Loss D: 0.6069814562797546, Loss G: 0.8794698715209961\n"
     ]
    },
    {
     "name": "stderr",
     "output_type": "stream",
     "text": [
      "100%|██████████| 1875/1875 [00:57<00:00, 32.84it/s]\n",
      "  1%|          | 10/1875 [00:00<00:39, 47.52it/s]"
     ]
    },
    {
     "name": "stdout",
     "output_type": "stream",
     "text": [
      "Epoch: [126/300], Loss D: 0.7618058323860168, Loss G: 0.7146997451782227\n"
     ]
    },
    {
     "name": "stderr",
     "output_type": "stream",
     "text": [
      "100%|██████████| 1875/1875 [00:48<00:00, 38.74it/s]\n",
      "  0%|          | 3/1875 [00:00<01:09, 27.02it/s]"
     ]
    },
    {
     "name": "stdout",
     "output_type": "stream",
     "text": [
      "Epoch: [127/300], Loss D: 0.5941399335861206, Loss G: 1.071530818939209\n"
     ]
    },
    {
     "name": "stderr",
     "output_type": "stream",
     "text": [
      "100%|██████████| 1875/1875 [00:44<00:00, 42.24it/s]\n",
      "  0%|          | 4/1875 [00:00<00:53, 35.27it/s]"
     ]
    },
    {
     "name": "stdout",
     "output_type": "stream",
     "text": [
      "Epoch: [128/300], Loss D: 0.659041166305542, Loss G: 0.9235396385192871\n"
     ]
    },
    {
     "name": "stderr",
     "output_type": "stream",
     "text": [
      "100%|██████████| 1875/1875 [01:36<00:00, 19.49it/s]\n",
      "  1%|          | 10/1875 [00:00<00:38, 48.38it/s]"
     ]
    },
    {
     "name": "stdout",
     "output_type": "stream",
     "text": [
      "Epoch: [129/300], Loss D: 0.61419278383255, Loss G: 0.9812604188919067\n"
     ]
    },
    {
     "name": "stderr",
     "output_type": "stream",
     "text": [
      "100%|██████████| 1875/1875 [00:42<00:00, 43.74it/s]\n",
      "  0%|          | 8/1875 [00:00<00:46, 40.30it/s]"
     ]
    },
    {
     "name": "stdout",
     "output_type": "stream",
     "text": [
      "Epoch: [130/300], Loss D: 0.5110909938812256, Loss G: 0.9746919274330139\n"
     ]
    },
    {
     "name": "stderr",
     "output_type": "stream",
     "text": [
      "100%|██████████| 1875/1875 [00:36<00:00, 51.16it/s]\n",
      "  0%|          | 9/1875 [00:00<00:43, 43.35it/s]"
     ]
    },
    {
     "name": "stdout",
     "output_type": "stream",
     "text": [
      "Epoch: [131/300], Loss D: 0.5411557555198669, Loss G: 0.9981405735015869\n"
     ]
    },
    {
     "name": "stderr",
     "output_type": "stream",
     "text": [
      "100%|██████████| 1875/1875 [00:32<00:00, 56.90it/s]\n",
      "  0%|          | 8/1875 [00:00<00:48, 38.80it/s]"
     ]
    },
    {
     "name": "stdout",
     "output_type": "stream",
     "text": [
      "Epoch: [132/300], Loss D: 0.5524113178253174, Loss G: 1.1254181861877441\n"
     ]
    },
    {
     "name": "stderr",
     "output_type": "stream",
     "text": [
      "100%|██████████| 1875/1875 [00:25<00:00, 72.32it/s]\n",
      "  1%|          | 15/1875 [00:00<00:24, 75.40it/s]"
     ]
    },
    {
     "name": "stdout",
     "output_type": "stream",
     "text": [
      "Epoch: [133/300], Loss D: 0.5358704924583435, Loss G: 0.9972193241119385\n"
     ]
    },
    {
     "name": "stderr",
     "output_type": "stream",
     "text": [
      "100%|██████████| 1875/1875 [00:22<00:00, 84.79it/s]\n",
      "  1%|          | 17/1875 [00:00<00:23, 80.57it/s]"
     ]
    },
    {
     "name": "stdout",
     "output_type": "stream",
     "text": [
      "Epoch: [134/300], Loss D: 0.5700805187225342, Loss G: 1.1286168098449707\n"
     ]
    },
    {
     "name": "stderr",
     "output_type": "stream",
     "text": [
      "100%|██████████| 1875/1875 [00:22<00:00, 84.24it/s]\n",
      "  1%|          | 17/1875 [00:00<00:22, 81.26it/s]"
     ]
    },
    {
     "name": "stdout",
     "output_type": "stream",
     "text": [
      "Epoch: [135/300], Loss D: 0.615720272064209, Loss G: 0.9365358352661133\n"
     ]
    },
    {
     "name": "stderr",
     "output_type": "stream",
     "text": [
      "100%|██████████| 1875/1875 [00:22<00:00, 85.19it/s]\n",
      "  1%|          | 16/1875 [00:00<00:23, 77.96it/s]"
     ]
    },
    {
     "name": "stdout",
     "output_type": "stream",
     "text": [
      "Epoch: [136/300], Loss D: 0.5859280228614807, Loss G: 1.0341545343399048\n"
     ]
    },
    {
     "name": "stderr",
     "output_type": "stream",
     "text": [
      "100%|██████████| 1875/1875 [00:22<00:00, 83.46it/s]\n",
      "  0%|          | 8/1875 [00:00<00:25, 74.30it/s]"
     ]
    },
    {
     "name": "stdout",
     "output_type": "stream",
     "text": [
      "Epoch: [137/300], Loss D: 0.5729457139968872, Loss G: 1.0065393447875977\n"
     ]
    },
    {
     "name": "stderr",
     "output_type": "stream",
     "text": [
      "100%|██████████| 1875/1875 [00:22<00:00, 85.01it/s]\n",
      "  1%|          | 17/1875 [00:00<00:22, 81.04it/s]"
     ]
    },
    {
     "name": "stdout",
     "output_type": "stream",
     "text": [
      "Epoch: [138/300], Loss D: 0.5868290662765503, Loss G: 1.0526195764541626\n"
     ]
    },
    {
     "name": "stderr",
     "output_type": "stream",
     "text": [
      "100%|██████████| 1875/1875 [00:23<00:00, 81.09it/s]\n",
      "  1%|          | 17/1875 [00:00<00:22, 81.39it/s]"
     ]
    },
    {
     "name": "stdout",
     "output_type": "stream",
     "text": [
      "Epoch: [139/300], Loss D: 0.7047750949859619, Loss G: 0.8430266380310059\n"
     ]
    },
    {
     "name": "stderr",
     "output_type": "stream",
     "text": [
      "100%|██████████| 1875/1875 [00:21<00:00, 85.86it/s]\n",
      "  0%|          | 8/1875 [00:00<00:25, 73.47it/s]"
     ]
    },
    {
     "name": "stdout",
     "output_type": "stream",
     "text": [
      "Epoch: [140/300], Loss D: 0.5239485502243042, Loss G: 1.1464723348617554\n"
     ]
    },
    {
     "name": "stderr",
     "output_type": "stream",
     "text": [
      "100%|██████████| 1875/1875 [00:21<00:00, 85.64it/s]\n",
      "  1%|          | 17/1875 [00:00<00:22, 80.86it/s]"
     ]
    },
    {
     "name": "stdout",
     "output_type": "stream",
     "text": [
      "Epoch: [141/300], Loss D: 0.6578856706619263, Loss G: 0.8244978785514832\n"
     ]
    },
    {
     "name": "stderr",
     "output_type": "stream",
     "text": [
      "100%|██████████| 1875/1875 [00:22<00:00, 84.30it/s]\n",
      "  1%|          | 16/1875 [00:00<00:23, 79.71it/s]"
     ]
    },
    {
     "name": "stdout",
     "output_type": "stream",
     "text": [
      "Epoch: [142/300], Loss D: 0.5436323285102844, Loss G: 1.0285468101501465\n"
     ]
    },
    {
     "name": "stderr",
     "output_type": "stream",
     "text": [
      "100%|██████████| 1875/1875 [00:21<00:00, 85.51it/s]\n",
      "  0%|          | 8/1875 [00:00<00:25, 72.14it/s]"
     ]
    },
    {
     "name": "stdout",
     "output_type": "stream",
     "text": [
      "Epoch: [143/300], Loss D: 0.6663434505462646, Loss G: 0.8227274417877197\n"
     ]
    },
    {
     "name": "stderr",
     "output_type": "stream",
     "text": [
      "100%|██████████| 1875/1875 [00:22<00:00, 84.62it/s]\n",
      "  1%|          | 16/1875 [00:00<00:23, 77.54it/s]"
     ]
    },
    {
     "name": "stdout",
     "output_type": "stream",
     "text": [
      "Epoch: [144/300], Loss D: 0.5779534578323364, Loss G: 0.9827516078948975\n"
     ]
    },
    {
     "name": "stderr",
     "output_type": "stream",
     "text": [
      "100%|██████████| 1875/1875 [00:22<00:00, 84.71it/s]\n",
      "  1%|          | 17/1875 [00:00<00:23, 80.57it/s]"
     ]
    },
    {
     "name": "stdout",
     "output_type": "stream",
     "text": [
      "Epoch: [145/300], Loss D: 0.5456267595291138, Loss G: 1.033810019493103\n"
     ]
    },
    {
     "name": "stderr",
     "output_type": "stream",
     "text": [
      "100%|██████████| 1875/1875 [00:22<00:00, 85.04it/s]\n",
      "  1%|          | 17/1875 [00:00<00:23, 80.78it/s]"
     ]
    },
    {
     "name": "stdout",
     "output_type": "stream",
     "text": [
      "Epoch: [146/300], Loss D: 0.5879552960395813, Loss G: 1.0841964483261108\n"
     ]
    },
    {
     "name": "stderr",
     "output_type": "stream",
     "text": [
      "100%|██████████| 1875/1875 [00:22<00:00, 84.88it/s]\n",
      "  1%|          | 17/1875 [00:00<00:23, 80.74it/s]"
     ]
    },
    {
     "name": "stdout",
     "output_type": "stream",
     "text": [
      "Epoch: [147/300], Loss D: 0.6206414103507996, Loss G: 0.9272176027297974\n"
     ]
    },
    {
     "name": "stderr",
     "output_type": "stream",
     "text": [
      "100%|██████████| 1875/1875 [00:22<00:00, 84.56it/s]\n",
      "  0%|          | 8/1875 [00:00<00:25, 72.33it/s]"
     ]
    },
    {
     "name": "stdout",
     "output_type": "stream",
     "text": [
      "Epoch: [148/300], Loss D: 0.6328047513961792, Loss G: 0.8983897566795349\n"
     ]
    },
    {
     "name": "stderr",
     "output_type": "stream",
     "text": [
      "100%|██████████| 1875/1875 [00:22<00:00, 84.43it/s]\n",
      "  1%|          | 17/1875 [00:00<00:23, 80.35it/s]"
     ]
    },
    {
     "name": "stdout",
     "output_type": "stream",
     "text": [
      "Epoch: [149/300], Loss D: 0.6332838535308838, Loss G: 0.9950436353683472\n"
     ]
    },
    {
     "name": "stderr",
     "output_type": "stream",
     "text": [
      "100%|██████████| 1875/1875 [00:22<00:00, 85.13it/s]\n",
      "  0%|          | 8/1875 [00:00<00:25, 73.18it/s]"
     ]
    },
    {
     "name": "stdout",
     "output_type": "stream",
     "text": [
      "Epoch: [150/300], Loss D: 0.5850546360015869, Loss G: 0.9331408143043518\n"
     ]
    },
    {
     "name": "stderr",
     "output_type": "stream",
     "text": [
      "100%|██████████| 1875/1875 [00:22<00:00, 82.70it/s]\n",
      "  0%|          | 8/1875 [00:00<00:25, 73.96it/s]"
     ]
    },
    {
     "name": "stdout",
     "output_type": "stream",
     "text": [
      "Epoch: [151/300], Loss D: 0.6144857406616211, Loss G: 1.1597479581832886\n"
     ]
    },
    {
     "name": "stderr",
     "output_type": "stream",
     "text": [
      "100%|██████████| 1875/1875 [00:22<00:00, 83.48it/s]\n",
      "  1%|          | 16/1875 [00:00<00:23, 80.22it/s]"
     ]
    },
    {
     "name": "stdout",
     "output_type": "stream",
     "text": [
      "Epoch: [152/300], Loss D: 0.5371097326278687, Loss G: 1.0085482597351074\n"
     ]
    },
    {
     "name": "stderr",
     "output_type": "stream",
     "text": [
      "100%|██████████| 1875/1875 [00:22<00:00, 82.61it/s]\n",
      "  0%|          | 8/1875 [00:00<00:26, 71.74it/s]"
     ]
    },
    {
     "name": "stdout",
     "output_type": "stream",
     "text": [
      "Epoch: [153/300], Loss D: 0.5242637395858765, Loss G: 1.114792823791504\n"
     ]
    },
    {
     "name": "stderr",
     "output_type": "stream",
     "text": [
      "100%|██████████| 1875/1875 [00:22<00:00, 82.36it/s]\n",
      "  1%|          | 17/1875 [00:00<00:22, 81.50it/s]"
     ]
    },
    {
     "name": "stdout",
     "output_type": "stream",
     "text": [
      "Epoch: [154/300], Loss D: 0.6151378154754639, Loss G: 0.8532143831253052\n"
     ]
    },
    {
     "name": "stderr",
     "output_type": "stream",
     "text": [
      "100%|██████████| 1875/1875 [00:22<00:00, 84.52it/s]\n",
      "  0%|          | 8/1875 [00:00<00:25, 73.54it/s]"
     ]
    },
    {
     "name": "stdout",
     "output_type": "stream",
     "text": [
      "Epoch: [155/300], Loss D: 0.5783253908157349, Loss G: 1.0690675973892212\n"
     ]
    },
    {
     "name": "stderr",
     "output_type": "stream",
     "text": [
      "100%|██████████| 1875/1875 [00:21<00:00, 85.78it/s]\n",
      "  1%|          | 15/1875 [00:00<00:25, 74.09it/s]"
     ]
    },
    {
     "name": "stdout",
     "output_type": "stream",
     "text": [
      "Epoch: [156/300], Loss D: 0.5628405809402466, Loss G: 1.100538730621338\n"
     ]
    },
    {
     "name": "stderr",
     "output_type": "stream",
     "text": [
      "100%|██████████| 1875/1875 [00:21<00:00, 85.52it/s]\n",
      "  1%|          | 15/1875 [00:00<00:25, 73.87it/s]"
     ]
    },
    {
     "name": "stdout",
     "output_type": "stream",
     "text": [
      "Epoch: [157/300], Loss D: 0.6057729125022888, Loss G: 1.018376350402832\n"
     ]
    },
    {
     "name": "stderr",
     "output_type": "stream",
     "text": [
      "100%|██████████| 1875/1875 [00:22<00:00, 83.46it/s]\n",
      "  1%|          | 17/1875 [00:00<00:22, 81.03it/s]"
     ]
    },
    {
     "name": "stdout",
     "output_type": "stream",
     "text": [
      "Epoch: [158/300], Loss D: 0.6187700033187866, Loss G: 0.9687749147415161\n"
     ]
    },
    {
     "name": "stderr",
     "output_type": "stream",
     "text": [
      "100%|██████████| 1875/1875 [00:21<00:00, 85.29it/s]\n",
      "  0%|          | 8/1875 [00:00<00:25, 72.94it/s]"
     ]
    },
    {
     "name": "stdout",
     "output_type": "stream",
     "text": [
      "Epoch: [159/300], Loss D: 0.49622851610183716, Loss G: 1.0604337453842163\n"
     ]
    },
    {
     "name": "stderr",
     "output_type": "stream",
     "text": [
      "100%|██████████| 1875/1875 [00:22<00:00, 84.54it/s]\n",
      "  1%|          | 14/1875 [00:00<00:27, 66.68it/s]"
     ]
    },
    {
     "name": "stdout",
     "output_type": "stream",
     "text": [
      "Epoch: [160/300], Loss D: 0.5700957775115967, Loss G: 0.8680052161216736\n"
     ]
    },
    {
     "name": "stderr",
     "output_type": "stream",
     "text": [
      "100%|██████████| 1875/1875 [00:21<00:00, 85.88it/s]\n",
      "  0%|          | 8/1875 [00:00<00:25, 73.20it/s]"
     ]
    },
    {
     "name": "stdout",
     "output_type": "stream",
     "text": [
      "Epoch: [161/300], Loss D: 0.6749528646469116, Loss G: 0.8542516827583313\n"
     ]
    },
    {
     "name": "stderr",
     "output_type": "stream",
     "text": [
      "100%|██████████| 1875/1875 [00:21<00:00, 85.88it/s]\n",
      "  1%|          | 17/1875 [00:00<00:22, 82.23it/s]"
     ]
    },
    {
     "name": "stdout",
     "output_type": "stream",
     "text": [
      "Epoch: [162/300], Loss D: 0.5481430292129517, Loss G: 1.0684431791305542\n"
     ]
    },
    {
     "name": "stderr",
     "output_type": "stream",
     "text": [
      "100%|██████████| 1875/1875 [00:22<00:00, 85.16it/s]\n",
      "  1%|          | 17/1875 [00:00<00:23, 80.42it/s]"
     ]
    },
    {
     "name": "stdout",
     "output_type": "stream",
     "text": [
      "Epoch: [163/300], Loss D: 0.5756708383560181, Loss G: 1.1039624214172363\n"
     ]
    },
    {
     "name": "stderr",
     "output_type": "stream",
     "text": [
      "100%|██████████| 1875/1875 [00:22<00:00, 84.09it/s]\n",
      "  1%|          | 17/1875 [00:00<00:22, 80.80it/s]"
     ]
    },
    {
     "name": "stdout",
     "output_type": "stream",
     "text": [
      "Epoch: [164/300], Loss D: 0.6239345073699951, Loss G: 0.9654564261436462\n"
     ]
    },
    {
     "name": "stderr",
     "output_type": "stream",
     "text": [
      "100%|██████████| 1875/1875 [00:22<00:00, 83.02it/s]\n",
      "  0%|          | 8/1875 [00:00<00:25, 72.81it/s]"
     ]
    },
    {
     "name": "stdout",
     "output_type": "stream",
     "text": [
      "Epoch: [165/300], Loss D: 0.5627560019493103, Loss G: 1.0187418460845947\n"
     ]
    },
    {
     "name": "stderr",
     "output_type": "stream",
     "text": [
      "100%|██████████| 1875/1875 [00:22<00:00, 81.58it/s]\n",
      "  1%|          | 16/1875 [00:00<00:23, 79.72it/s]"
     ]
    },
    {
     "name": "stdout",
     "output_type": "stream",
     "text": [
      "Epoch: [166/300], Loss D: 0.5694574117660522, Loss G: 1.1721338033676147\n"
     ]
    },
    {
     "name": "stderr",
     "output_type": "stream",
     "text": [
      "100%|██████████| 1875/1875 [00:24<00:00, 76.64it/s]\n",
      "  1%|          | 14/1875 [00:00<00:26, 69.15it/s]"
     ]
    },
    {
     "name": "stdout",
     "output_type": "stream",
     "text": [
      "Epoch: [167/300], Loss D: 0.6251132488250732, Loss G: 0.994189441204071\n"
     ]
    },
    {
     "name": "stderr",
     "output_type": "stream",
     "text": [
      "100%|██████████| 1875/1875 [00:25<00:00, 72.83it/s]\n",
      "  1%|          | 14/1875 [00:00<00:26, 71.17it/s]"
     ]
    },
    {
     "name": "stdout",
     "output_type": "stream",
     "text": [
      "Epoch: [168/300], Loss D: 0.6197096109390259, Loss G: 0.9910182952880859\n"
     ]
    },
    {
     "name": "stderr",
     "output_type": "stream",
     "text": [
      "100%|██████████| 1875/1875 [00:26<00:00, 71.94it/s]\n",
      "  1%|          | 14/1875 [00:00<00:26, 70.09it/s]"
     ]
    },
    {
     "name": "stdout",
     "output_type": "stream",
     "text": [
      "Epoch: [169/300], Loss D: 0.5746282339096069, Loss G: 1.0159260034561157\n"
     ]
    },
    {
     "name": "stderr",
     "output_type": "stream",
     "text": [
      "100%|██████████| 1875/1875 [00:25<00:00, 74.42it/s]\n",
      "  1%|          | 14/1875 [00:00<00:28, 65.88it/s]"
     ]
    },
    {
     "name": "stdout",
     "output_type": "stream",
     "text": [
      "Epoch: [170/300], Loss D: 0.612634539604187, Loss G: 1.0582327842712402\n"
     ]
    },
    {
     "name": "stderr",
     "output_type": "stream",
     "text": [
      "100%|██████████| 1875/1875 [00:25<00:00, 73.11it/s]\n",
      "  1%|          | 14/1875 [00:00<00:28, 66.28it/s]"
     ]
    },
    {
     "name": "stdout",
     "output_type": "stream",
     "text": [
      "Epoch: [171/300], Loss D: 0.5926758050918579, Loss G: 0.9906505346298218\n"
     ]
    },
    {
     "name": "stderr",
     "output_type": "stream",
     "text": [
      "100%|██████████| 1875/1875 [00:25<00:00, 73.61it/s]\n",
      "  1%|          | 14/1875 [00:00<00:26, 70.32it/s]"
     ]
    },
    {
     "name": "stdout",
     "output_type": "stream",
     "text": [
      "Epoch: [172/300], Loss D: 0.5691238641738892, Loss G: 1.0369964838027954\n"
     ]
    },
    {
     "name": "stderr",
     "output_type": "stream",
     "text": [
      "100%|██████████| 1875/1875 [00:23<00:00, 80.29it/s]\n",
      "  1%|          | 17/1875 [00:00<00:22, 80.97it/s]"
     ]
    },
    {
     "name": "stdout",
     "output_type": "stream",
     "text": [
      "Epoch: [173/300], Loss D: 0.5933278799057007, Loss G: 0.9739197492599487\n"
     ]
    },
    {
     "name": "stderr",
     "output_type": "stream",
     "text": [
      "100%|██████████| 1875/1875 [00:22<00:00, 84.55it/s]\n",
      "  1%|          | 17/1875 [00:00<00:22, 81.70it/s]"
     ]
    },
    {
     "name": "stdout",
     "output_type": "stream",
     "text": [
      "Epoch: [174/300], Loss D: 0.49209412932395935, Loss G: 1.0328724384307861\n"
     ]
    },
    {
     "name": "stderr",
     "output_type": "stream",
     "text": [
      "100%|██████████| 1875/1875 [00:21<00:00, 85.75it/s]\n",
      "  1%|          | 17/1875 [00:00<00:22, 81.73it/s]"
     ]
    },
    {
     "name": "stdout",
     "output_type": "stream",
     "text": [
      "Epoch: [175/300], Loss D: 0.590351402759552, Loss G: 1.0019383430480957\n"
     ]
    },
    {
     "name": "stderr",
     "output_type": "stream",
     "text": [
      "100%|██████████| 1875/1875 [00:21<00:00, 85.89it/s]\n",
      "  1%|          | 17/1875 [00:00<00:22, 81.12it/s]"
     ]
    },
    {
     "name": "stdout",
     "output_type": "stream",
     "text": [
      "Epoch: [176/300], Loss D: 0.5757964849472046, Loss G: 0.8759108185768127\n"
     ]
    },
    {
     "name": "stderr",
     "output_type": "stream",
     "text": [
      "100%|██████████| 1875/1875 [00:21<00:00, 86.14it/s]\n",
      "  0%|          | 8/1875 [00:00<00:25, 72.56it/s]"
     ]
    },
    {
     "name": "stdout",
     "output_type": "stream",
     "text": [
      "Epoch: [177/300], Loss D: 0.6164342164993286, Loss G: 0.8759976625442505\n"
     ]
    },
    {
     "name": "stderr",
     "output_type": "stream",
     "text": [
      "100%|██████████| 1875/1875 [00:21<00:00, 85.39it/s]\n",
      "  1%|          | 16/1875 [00:00<00:23, 78.65it/s]"
     ]
    },
    {
     "name": "stdout",
     "output_type": "stream",
     "text": [
      "Epoch: [178/300], Loss D: 0.6472917199134827, Loss G: 1.1212365627288818\n"
     ]
    },
    {
     "name": "stderr",
     "output_type": "stream",
     "text": [
      "100%|██████████| 1875/1875 [00:22<00:00, 84.91it/s]\n",
      "  1%|          | 16/1875 [00:00<00:23, 79.73it/s]"
     ]
    },
    {
     "name": "stdout",
     "output_type": "stream",
     "text": [
      "Epoch: [179/300], Loss D: 0.6091244220733643, Loss G: 1.1069161891937256\n"
     ]
    },
    {
     "name": "stderr",
     "output_type": "stream",
     "text": [
      "100%|██████████| 1875/1875 [00:22<00:00, 84.43it/s]\n",
      "  1%|          | 17/1875 [00:00<00:23, 79.95it/s]"
     ]
    },
    {
     "name": "stdout",
     "output_type": "stream",
     "text": [
      "Epoch: [180/300], Loss D: 0.5824769735336304, Loss G: 0.9625271558761597\n"
     ]
    },
    {
     "name": "stderr",
     "output_type": "stream",
     "text": [
      "100%|██████████| 1875/1875 [00:22<00:00, 84.17it/s]\n",
      "  0%|          | 8/1875 [00:00<00:25, 74.30it/s]"
     ]
    },
    {
     "name": "stdout",
     "output_type": "stream",
     "text": [
      "Epoch: [181/300], Loss D: 0.5279290676116943, Loss G: 1.0600425004959106\n"
     ]
    },
    {
     "name": "stderr",
     "output_type": "stream",
     "text": [
      "100%|██████████| 1875/1875 [00:21<00:00, 85.35it/s]\n",
      "  1%|          | 16/1875 [00:00<00:24, 76.02it/s]"
     ]
    },
    {
     "name": "stdout",
     "output_type": "stream",
     "text": [
      "Epoch: [182/300], Loss D: 0.5523709058761597, Loss G: 1.0654611587524414\n"
     ]
    },
    {
     "name": "stderr",
     "output_type": "stream",
     "text": [
      "100%|██████████| 1875/1875 [00:22<00:00, 84.11it/s]\n",
      "  1%|          | 17/1875 [00:00<00:23, 80.55it/s]"
     ]
    },
    {
     "name": "stdout",
     "output_type": "stream",
     "text": [
      "Epoch: [183/300], Loss D: 0.6188463568687439, Loss G: 0.8677816987037659\n"
     ]
    },
    {
     "name": "stderr",
     "output_type": "stream",
     "text": [
      "100%|██████████| 1875/1875 [00:21<00:00, 86.08it/s]\n",
      "  0%|          | 8/1875 [00:00<00:25, 73.39it/s]"
     ]
    },
    {
     "name": "stdout",
     "output_type": "stream",
     "text": [
      "Epoch: [184/300], Loss D: 0.5046183466911316, Loss G: 1.1939060688018799\n"
     ]
    },
    {
     "name": "stderr",
     "output_type": "stream",
     "text": [
      "100%|██████████| 1875/1875 [00:22<00:00, 83.27it/s]\n",
      "  1%|          | 17/1875 [00:00<00:23, 80.62it/s]"
     ]
    },
    {
     "name": "stdout",
     "output_type": "stream",
     "text": [
      "Epoch: [185/300], Loss D: 0.5898382663726807, Loss G: 0.9778156280517578\n"
     ]
    },
    {
     "name": "stderr",
     "output_type": "stream",
     "text": [
      "100%|██████████| 1875/1875 [00:21<00:00, 85.71it/s]\n",
      "  1%|          | 17/1875 [00:00<00:22, 81.04it/s]"
     ]
    },
    {
     "name": "stdout",
     "output_type": "stream",
     "text": [
      "Epoch: [186/300], Loss D: 0.6054072976112366, Loss G: 0.8855577111244202\n"
     ]
    },
    {
     "name": "stderr",
     "output_type": "stream",
     "text": [
      "100%|██████████| 1875/1875 [00:21<00:00, 86.00it/s]\n",
      "  1%|          | 16/1875 [00:00<00:24, 75.94it/s]"
     ]
    },
    {
     "name": "stdout",
     "output_type": "stream",
     "text": [
      "Epoch: [187/300], Loss D: 0.5233629941940308, Loss G: 1.3223100900650024\n"
     ]
    },
    {
     "name": "stderr",
     "output_type": "stream",
     "text": [
      "100%|██████████| 1875/1875 [00:22<00:00, 84.31it/s]\n",
      "  1%|          | 16/1875 [00:00<00:23, 78.14it/s]"
     ]
    },
    {
     "name": "stdout",
     "output_type": "stream",
     "text": [
      "Epoch: [188/300], Loss D: 0.5386241674423218, Loss G: 1.121641993522644\n"
     ]
    },
    {
     "name": "stderr",
     "output_type": "stream",
     "text": [
      "100%|██████████| 1875/1875 [00:22<00:00, 84.70it/s]\n",
      "  0%|          | 8/1875 [00:00<00:26, 71.65it/s]"
     ]
    },
    {
     "name": "stdout",
     "output_type": "stream",
     "text": [
      "Epoch: [189/300], Loss D: 0.5363618731498718, Loss G: 1.205849289894104\n"
     ]
    },
    {
     "name": "stderr",
     "output_type": "stream",
     "text": [
      "100%|██████████| 1875/1875 [00:22<00:00, 82.23it/s]\n",
      "  1%|          | 17/1875 [00:00<00:23, 80.36it/s]"
     ]
    },
    {
     "name": "stdout",
     "output_type": "stream",
     "text": [
      "Epoch: [190/300], Loss D: 0.5760647058486938, Loss G: 0.9419931173324585\n"
     ]
    },
    {
     "name": "stderr",
     "output_type": "stream",
     "text": [
      "100%|██████████| 1875/1875 [00:22<00:00, 84.78it/s]\n",
      "  1%|          | 17/1875 [00:00<00:22, 81.71it/s]"
     ]
    },
    {
     "name": "stdout",
     "output_type": "stream",
     "text": [
      "Epoch: [191/300], Loss D: 0.602721095085144, Loss G: 1.00294828414917\n"
     ]
    },
    {
     "name": "stderr",
     "output_type": "stream",
     "text": [
      "100%|██████████| 1875/1875 [00:22<00:00, 84.74it/s]\n",
      "  1%|          | 16/1875 [00:00<00:23, 79.81it/s]"
     ]
    },
    {
     "name": "stdout",
     "output_type": "stream",
     "text": [
      "Epoch: [192/300], Loss D: 0.5550719499588013, Loss G: 1.2229007482528687\n"
     ]
    },
    {
     "name": "stderr",
     "output_type": "stream",
     "text": [
      "100%|██████████| 1875/1875 [00:22<00:00, 84.29it/s]\n",
      "  1%|          | 17/1875 [00:00<00:22, 81.23it/s]"
     ]
    },
    {
     "name": "stdout",
     "output_type": "stream",
     "text": [
      "Epoch: [193/300], Loss D: 0.5354454517364502, Loss G: 1.1153146028518677\n"
     ]
    },
    {
     "name": "stderr",
     "output_type": "stream",
     "text": [
      "100%|██████████| 1875/1875 [00:22<00:00, 84.88it/s]\n",
      "  1%|          | 17/1875 [00:00<00:22, 81.23it/s]"
     ]
    },
    {
     "name": "stdout",
     "output_type": "stream",
     "text": [
      "Epoch: [194/300], Loss D: 0.5464975833892822, Loss G: 1.2766679525375366\n"
     ]
    },
    {
     "name": "stderr",
     "output_type": "stream",
     "text": [
      "100%|██████████| 1875/1875 [00:21<00:00, 86.24it/s]\n",
      "  1%|          | 16/1875 [00:00<00:23, 79.75it/s]"
     ]
    },
    {
     "name": "stdout",
     "output_type": "stream",
     "text": [
      "Epoch: [195/300], Loss D: 0.5269902348518372, Loss G: 0.9767214059829712\n"
     ]
    },
    {
     "name": "stderr",
     "output_type": "stream",
     "text": [
      "100%|██████████| 1875/1875 [00:23<00:00, 81.45it/s]\n",
      "  1%|          | 13/1875 [00:00<00:30, 60.68it/s]"
     ]
    },
    {
     "name": "stdout",
     "output_type": "stream",
     "text": [
      "Epoch: [196/300], Loss D: 0.5432045459747314, Loss G: 0.9998328685760498\n"
     ]
    },
    {
     "name": "stderr",
     "output_type": "stream",
     "text": [
      "100%|██████████| 1875/1875 [00:27<00:00, 67.99it/s]\n",
      "  1%|          | 10/1875 [00:00<00:38, 48.48it/s]"
     ]
    },
    {
     "name": "stdout",
     "output_type": "stream",
     "text": [
      "Epoch: [197/300], Loss D: 0.5628110766410828, Loss G: 1.1487611532211304\n"
     ]
    },
    {
     "name": "stderr",
     "output_type": "stream",
     "text": [
      "100%|██████████| 1875/1875 [00:26<00:00, 69.76it/s]\n",
      "  1%|          | 14/1875 [00:00<00:28, 66.06it/s]"
     ]
    },
    {
     "name": "stdout",
     "output_type": "stream",
     "text": [
      "Epoch: [198/300], Loss D: 0.6273199319839478, Loss G: 0.8813346028327942\n"
     ]
    },
    {
     "name": "stderr",
     "output_type": "stream",
     "text": [
      "100%|██████████| 1875/1875 [00:26<00:00, 71.01it/s]\n",
      "  0%|          | 7/1875 [00:00<00:29, 63.43it/s]"
     ]
    },
    {
     "name": "stdout",
     "output_type": "stream",
     "text": [
      "Epoch: [199/300], Loss D: 0.6013676524162292, Loss G: 1.1324716806411743\n"
     ]
    },
    {
     "name": "stderr",
     "output_type": "stream",
     "text": [
      "100%|██████████| 1875/1875 [00:26<00:00, 70.24it/s]\n",
      "  1%|          | 11/1875 [00:00<00:34, 54.30it/s]"
     ]
    },
    {
     "name": "stdout",
     "output_type": "stream",
     "text": [
      "Epoch: [200/300], Loss D: 0.6057709455490112, Loss G: 1.197994351387024\n"
     ]
    },
    {
     "name": "stderr",
     "output_type": "stream",
     "text": [
      "100%|██████████| 1875/1875 [00:27<00:00, 67.33it/s]\n",
      "  1%|          | 16/1875 [00:00<00:23, 77.69it/s]"
     ]
    },
    {
     "name": "stdout",
     "output_type": "stream",
     "text": [
      "Epoch: [201/300], Loss D: 0.6004292368888855, Loss G: 0.9452199339866638\n"
     ]
    },
    {
     "name": "stderr",
     "output_type": "stream",
     "text": [
      "100%|██████████| 1875/1875 [00:22<00:00, 82.29it/s]\n",
      "  1%|          | 16/1875 [00:00<00:23, 80.23it/s]"
     ]
    },
    {
     "name": "stdout",
     "output_type": "stream",
     "text": [
      "Epoch: [202/300], Loss D: 0.5617587566375732, Loss G: 0.8380964994430542\n"
     ]
    },
    {
     "name": "stderr",
     "output_type": "stream",
     "text": [
      "100%|██████████| 1875/1875 [00:21<00:00, 85.55it/s]\n",
      "  0%|          | 8/1875 [00:00<00:25, 72.90it/s]"
     ]
    },
    {
     "name": "stdout",
     "output_type": "stream",
     "text": [
      "Epoch: [203/300], Loss D: 0.5651828646659851, Loss G: 1.2164125442504883\n"
     ]
    },
    {
     "name": "stderr",
     "output_type": "stream",
     "text": [
      "100%|██████████| 1875/1875 [00:21<00:00, 86.16it/s]\n",
      "  1%|          | 17/1875 [00:00<00:22, 81.29it/s]"
     ]
    },
    {
     "name": "stdout",
     "output_type": "stream",
     "text": [
      "Epoch: [204/300], Loss D: 0.46362605690956116, Loss G: 1.1220396757125854\n"
     ]
    },
    {
     "name": "stderr",
     "output_type": "stream",
     "text": [
      "100%|██████████| 1875/1875 [00:21<00:00, 85.75it/s]\n",
      "  1%|          | 17/1875 [00:00<00:23, 80.19it/s]"
     ]
    },
    {
     "name": "stdout",
     "output_type": "stream",
     "text": [
      "Epoch: [205/300], Loss D: 0.5749585628509521, Loss G: 1.144081473350525\n"
     ]
    },
    {
     "name": "stderr",
     "output_type": "stream",
     "text": [
      "100%|██████████| 1875/1875 [00:22<00:00, 84.19it/s]\n",
      "  0%|          | 8/1875 [00:00<00:25, 73.53it/s]"
     ]
    },
    {
     "name": "stdout",
     "output_type": "stream",
     "text": [
      "Epoch: [206/300], Loss D: 0.5629629492759705, Loss G: 1.029203176498413\n"
     ]
    },
    {
     "name": "stderr",
     "output_type": "stream",
     "text": [
      "100%|██████████| 1875/1875 [00:23<00:00, 79.06it/s]\n",
      "  0%|          | 8/1875 [00:00<00:25, 73.31it/s]"
     ]
    },
    {
     "name": "stdout",
     "output_type": "stream",
     "text": [
      "Epoch: [207/300], Loss D: 0.5411996841430664, Loss G: 1.1000120639801025\n"
     ]
    },
    {
     "name": "stderr",
     "output_type": "stream",
     "text": [
      "100%|██████████| 1875/1875 [00:22<00:00, 84.52it/s]\n",
      "  1%|          | 17/1875 [00:00<00:22, 82.40it/s]"
     ]
    },
    {
     "name": "stdout",
     "output_type": "stream",
     "text": [
      "Epoch: [208/300], Loss D: 0.6301565170288086, Loss G: 1.0643315315246582\n"
     ]
    },
    {
     "name": "stderr",
     "output_type": "stream",
     "text": [
      "100%|██████████| 1875/1875 [00:21<00:00, 85.56it/s]\n",
      "  1%|          | 16/1875 [00:00<00:23, 77.66it/s]"
     ]
    },
    {
     "name": "stdout",
     "output_type": "stream",
     "text": [
      "Epoch: [209/300], Loss D: 0.5534675121307373, Loss G: 1.1424275636672974\n"
     ]
    },
    {
     "name": "stderr",
     "output_type": "stream",
     "text": [
      "100%|██████████| 1875/1875 [00:25<00:00, 72.33it/s]\n",
      "  0%|          | 7/1875 [00:00<00:30, 61.31it/s]"
     ]
    },
    {
     "name": "stdout",
     "output_type": "stream",
     "text": [
      "Epoch: [210/300], Loss D: 0.653313159942627, Loss G: 0.9352309107780457\n"
     ]
    },
    {
     "name": "stderr",
     "output_type": "stream",
     "text": [
      "100%|██████████| 1875/1875 [00:22<00:00, 83.25it/s]\n",
      "  0%|          | 8/1875 [00:00<00:25, 73.53it/s]"
     ]
    },
    {
     "name": "stdout",
     "output_type": "stream",
     "text": [
      "Epoch: [211/300], Loss D: 0.4817624092102051, Loss G: 0.940161943435669\n"
     ]
    },
    {
     "name": "stderr",
     "output_type": "stream",
     "text": [
      "100%|██████████| 1875/1875 [00:22<00:00, 84.49it/s]\n",
      "  1%|          | 16/1875 [00:00<00:23, 77.81it/s]"
     ]
    },
    {
     "name": "stdout",
     "output_type": "stream",
     "text": [
      "Epoch: [212/300], Loss D: 0.5394956469535828, Loss G: 0.9862045645713806\n"
     ]
    },
    {
     "name": "stderr",
     "output_type": "stream",
     "text": [
      "100%|██████████| 1875/1875 [00:22<00:00, 84.19it/s]\n",
      "  0%|          | 8/1875 [00:00<00:25, 73.11it/s]"
     ]
    },
    {
     "name": "stdout",
     "output_type": "stream",
     "text": [
      "Epoch: [213/300], Loss D: 0.516602098941803, Loss G: 1.0994555950164795\n"
     ]
    },
    {
     "name": "stderr",
     "output_type": "stream",
     "text": [
      "100%|██████████| 1875/1875 [00:21<00:00, 85.96it/s]\n",
      "  1%|          | 16/1875 [00:00<00:24, 76.70it/s]"
     ]
    },
    {
     "name": "stdout",
     "output_type": "stream",
     "text": [
      "Epoch: [214/300], Loss D: 0.565259575843811, Loss G: 1.0159238576889038\n"
     ]
    },
    {
     "name": "stderr",
     "output_type": "stream",
     "text": [
      "100%|██████████| 1875/1875 [00:21<00:00, 85.76it/s]\n",
      "  1%|          | 17/1875 [00:00<00:22, 81.01it/s]"
     ]
    },
    {
     "name": "stdout",
     "output_type": "stream",
     "text": [
      "Epoch: [215/300], Loss D: 0.577335000038147, Loss G: 1.1202236413955688\n"
     ]
    },
    {
     "name": "stderr",
     "output_type": "stream",
     "text": [
      "100%|██████████| 1875/1875 [00:22<00:00, 85.19it/s]\n",
      "  0%|          | 8/1875 [00:00<00:25, 72.67it/s]"
     ]
    },
    {
     "name": "stdout",
     "output_type": "stream",
     "text": [
      "Epoch: [216/300], Loss D: 0.5627762675285339, Loss G: 1.2987693548202515\n"
     ]
    },
    {
     "name": "stderr",
     "output_type": "stream",
     "text": [
      "100%|██████████| 1875/1875 [00:22<00:00, 84.98it/s]\n",
      "  1%|          | 17/1875 [00:00<00:23, 80.61it/s]"
     ]
    },
    {
     "name": "stdout",
     "output_type": "stream",
     "text": [
      "Epoch: [217/300], Loss D: 0.5483953356742859, Loss G: 1.0826537609100342\n"
     ]
    },
    {
     "name": "stderr",
     "output_type": "stream",
     "text": [
      "100%|██████████| 1875/1875 [00:21<00:00, 86.33it/s]\n",
      "  1%|          | 17/1875 [00:00<00:22, 81.58it/s]"
     ]
    },
    {
     "name": "stdout",
     "output_type": "stream",
     "text": [
      "Epoch: [218/300], Loss D: 0.49650973081588745, Loss G: 1.1928869485855103\n"
     ]
    },
    {
     "name": "stderr",
     "output_type": "stream",
     "text": [
      "100%|██████████| 1875/1875 [00:22<00:00, 85.14it/s]\n",
      "  0%|          | 8/1875 [00:00<00:25, 72.24it/s]"
     ]
    },
    {
     "name": "stdout",
     "output_type": "stream",
     "text": [
      "Epoch: [219/300], Loss D: 0.5555399656295776, Loss G: 0.9281972646713257\n"
     ]
    },
    {
     "name": "stderr",
     "output_type": "stream",
     "text": [
      "100%|██████████| 1875/1875 [00:22<00:00, 83.89it/s]\n",
      "  1%|          | 16/1875 [00:00<00:24, 75.47it/s]"
     ]
    },
    {
     "name": "stdout",
     "output_type": "stream",
     "text": [
      "Epoch: [220/300], Loss D: 0.5639529824256897, Loss G: 1.049194574356079\n"
     ]
    },
    {
     "name": "stderr",
     "output_type": "stream",
     "text": [
      "100%|██████████| 1875/1875 [00:21<00:00, 85.54it/s]\n",
      "  1%|          | 17/1875 [00:00<00:22, 80.94it/s]"
     ]
    },
    {
     "name": "stdout",
     "output_type": "stream",
     "text": [
      "Epoch: [221/300], Loss D: 0.608005166053772, Loss G: 1.0665308237075806\n"
     ]
    },
    {
     "name": "stderr",
     "output_type": "stream",
     "text": [
      "100%|██████████| 1875/1875 [00:21<00:00, 86.03it/s]\n",
      "  1%|          | 17/1875 [00:00<00:22, 82.27it/s]"
     ]
    },
    {
     "name": "stdout",
     "output_type": "stream",
     "text": [
      "Epoch: [222/300], Loss D: 0.5501764416694641, Loss G: 0.9631213545799255\n"
     ]
    },
    {
     "name": "stderr",
     "output_type": "stream",
     "text": [
      "100%|██████████| 1875/1875 [00:21<00:00, 85.63it/s]\n",
      "  1%|          | 16/1875 [00:00<00:23, 79.51it/s]"
     ]
    },
    {
     "name": "stdout",
     "output_type": "stream",
     "text": [
      "Epoch: [223/300], Loss D: 0.6019877195358276, Loss G: 1.1451727151870728\n"
     ]
    },
    {
     "name": "stderr",
     "output_type": "stream",
     "text": [
      "100%|██████████| 1875/1875 [00:21<00:00, 85.45it/s]\n",
      "  1%|          | 17/1875 [00:00<00:22, 82.06it/s]"
     ]
    },
    {
     "name": "stdout",
     "output_type": "stream",
     "text": [
      "Epoch: [224/300], Loss D: 0.5926569700241089, Loss G: 1.0142391920089722\n"
     ]
    },
    {
     "name": "stderr",
     "output_type": "stream",
     "text": [
      "100%|██████████| 1875/1875 [00:21<00:00, 86.01it/s]\n",
      "  1%|          | 14/1875 [00:00<00:26, 69.87it/s]"
     ]
    },
    {
     "name": "stdout",
     "output_type": "stream",
     "text": [
      "Epoch: [225/300], Loss D: 0.6603363752365112, Loss G: 1.1757920980453491\n"
     ]
    },
    {
     "name": "stderr",
     "output_type": "stream",
     "text": [
      "100%|██████████| 1875/1875 [00:22<00:00, 84.54it/s]\n",
      "  1%|          | 17/1875 [00:00<00:22, 80.93it/s]"
     ]
    },
    {
     "name": "stdout",
     "output_type": "stream",
     "text": [
      "Epoch: [226/300], Loss D: 0.5370337963104248, Loss G: 1.2772855758666992\n"
     ]
    },
    {
     "name": "stderr",
     "output_type": "stream",
     "text": [
      "100%|██████████| 1875/1875 [00:22<00:00, 84.99it/s]\n",
      "  0%|          | 8/1875 [00:00<00:26, 71.72it/s]"
     ]
    },
    {
     "name": "stdout",
     "output_type": "stream",
     "text": [
      "Epoch: [227/300], Loss D: 0.4895571768283844, Loss G: 1.0430681705474854\n"
     ]
    },
    {
     "name": "stderr",
     "output_type": "stream",
     "text": [
      "100%|██████████| 1875/1875 [00:24<00:00, 76.55it/s]\n",
      "  0%|          | 8/1875 [00:00<00:25, 72.37it/s]"
     ]
    },
    {
     "name": "stdout",
     "output_type": "stream",
     "text": [
      "Epoch: [228/300], Loss D: 0.6014701128005981, Loss G: 0.9281151294708252\n"
     ]
    },
    {
     "name": "stderr",
     "output_type": "stream",
     "text": [
      "100%|██████████| 1875/1875 [00:22<00:00, 85.17it/s]\n",
      "  1%|          | 17/1875 [00:00<00:23, 80.55it/s]"
     ]
    },
    {
     "name": "stdout",
     "output_type": "stream",
     "text": [
      "Epoch: [229/300], Loss D: 0.49895453453063965, Loss G: 1.0818599462509155\n"
     ]
    },
    {
     "name": "stderr",
     "output_type": "stream",
     "text": [
      "100%|██████████| 1875/1875 [00:22<00:00, 84.66it/s]\n",
      "  1%|          | 15/1875 [00:00<00:25, 74.04it/s]"
     ]
    },
    {
     "name": "stdout",
     "output_type": "stream",
     "text": [
      "Epoch: [230/300], Loss D: 0.5136115550994873, Loss G: 1.0579606294631958\n"
     ]
    },
    {
     "name": "stderr",
     "output_type": "stream",
     "text": [
      "100%|██████████| 1875/1875 [00:23<00:00, 81.34it/s]\n",
      "  1%|          | 16/1875 [00:00<00:23, 78.52it/s]"
     ]
    },
    {
     "name": "stdout",
     "output_type": "stream",
     "text": [
      "Epoch: [231/300], Loss D: 0.5444087982177734, Loss G: 1.1034855842590332\n"
     ]
    },
    {
     "name": "stderr",
     "output_type": "stream",
     "text": [
      "100%|██████████| 1875/1875 [00:22<00:00, 83.76it/s]\n",
      "  1%|          | 17/1875 [00:00<00:22, 81.81it/s]"
     ]
    },
    {
     "name": "stdout",
     "output_type": "stream",
     "text": [
      "Epoch: [232/300], Loss D: 0.5634820461273193, Loss G: 1.1732052564620972\n"
     ]
    },
    {
     "name": "stderr",
     "output_type": "stream",
     "text": [
      "100%|██████████| 1875/1875 [00:22<00:00, 84.60it/s]\n",
      "  0%|          | 8/1875 [00:00<00:25, 72.10it/s]"
     ]
    },
    {
     "name": "stdout",
     "output_type": "stream",
     "text": [
      "Epoch: [233/300], Loss D: 0.615122377872467, Loss G: 1.058079481124878\n"
     ]
    },
    {
     "name": "stderr",
     "output_type": "stream",
     "text": [
      "100%|██████████| 1875/1875 [00:22<00:00, 84.35it/s]\n",
      "  0%|          | 8/1875 [00:00<00:25, 74.31it/s]"
     ]
    },
    {
     "name": "stdout",
     "output_type": "stream",
     "text": [
      "Epoch: [234/300], Loss D: 0.5551654100418091, Loss G: 1.113049030303955\n"
     ]
    },
    {
     "name": "stderr",
     "output_type": "stream",
     "text": [
      "100%|██████████| 1875/1875 [00:21<00:00, 85.42it/s]\n",
      "  0%|          | 8/1875 [00:00<00:25, 72.03it/s]"
     ]
    },
    {
     "name": "stdout",
     "output_type": "stream",
     "text": [
      "Epoch: [235/300], Loss D: 0.6310299634933472, Loss G: 0.9819251298904419\n"
     ]
    },
    {
     "name": "stderr",
     "output_type": "stream",
     "text": [
      "100%|██████████| 1875/1875 [00:22<00:00, 85.07it/s]\n",
      "  1%|          | 16/1875 [00:00<00:23, 79.53it/s]"
     ]
    },
    {
     "name": "stdout",
     "output_type": "stream",
     "text": [
      "Epoch: [236/300], Loss D: 0.5748278498649597, Loss G: 1.1876425743103027\n"
     ]
    },
    {
     "name": "stderr",
     "output_type": "stream",
     "text": [
      "100%|██████████| 1875/1875 [00:22<00:00, 84.33it/s]\n",
      "  1%|          | 16/1875 [00:00<00:24, 77.29it/s]"
     ]
    },
    {
     "name": "stdout",
     "output_type": "stream",
     "text": [
      "Epoch: [237/300], Loss D: 0.5705677270889282, Loss G: 1.1147140264511108\n"
     ]
    },
    {
     "name": "stderr",
     "output_type": "stream",
     "text": [
      "100%|██████████| 1875/1875 [00:22<00:00, 82.71it/s]\n",
      "  1%|          | 17/1875 [00:00<00:22, 81.41it/s]"
     ]
    },
    {
     "name": "stdout",
     "output_type": "stream",
     "text": [
      "Epoch: [238/300], Loss D: 0.5380531549453735, Loss G: 1.2590930461883545\n"
     ]
    },
    {
     "name": "stderr",
     "output_type": "stream",
     "text": [
      "100%|██████████| 1875/1875 [00:22<00:00, 85.01it/s]\n",
      "  1%|          | 16/1875 [00:00<00:23, 79.85it/s]"
     ]
    },
    {
     "name": "stdout",
     "output_type": "stream",
     "text": [
      "Epoch: [239/300], Loss D: 0.5558300018310547, Loss G: 1.1131901741027832\n"
     ]
    },
    {
     "name": "stderr",
     "output_type": "stream",
     "text": [
      "100%|██████████| 1875/1875 [00:21<00:00, 85.67it/s]\n",
      "  0%|          | 8/1875 [00:00<00:25, 72.55it/s]"
     ]
    },
    {
     "name": "stdout",
     "output_type": "stream",
     "text": [
      "Epoch: [240/300], Loss D: 0.7417237758636475, Loss G: 0.862135648727417\n"
     ]
    },
    {
     "name": "stderr",
     "output_type": "stream",
     "text": [
      "100%|██████████| 1875/1875 [00:22<00:00, 84.86it/s]\n",
      "  1%|          | 16/1875 [00:00<00:23, 79.55it/s]"
     ]
    },
    {
     "name": "stdout",
     "output_type": "stream",
     "text": [
      "Epoch: [241/300], Loss D: 0.6118521690368652, Loss G: 0.7934101819992065\n"
     ]
    },
    {
     "name": "stderr",
     "output_type": "stream",
     "text": [
      "100%|██████████| 1875/1875 [00:22<00:00, 84.61it/s]\n",
      "  1%|          | 16/1875 [00:00<00:23, 79.02it/s]"
     ]
    },
    {
     "name": "stdout",
     "output_type": "stream",
     "text": [
      "Epoch: [242/300], Loss D: 0.6192755103111267, Loss G: 0.9759398698806763\n"
     ]
    },
    {
     "name": "stderr",
     "output_type": "stream",
     "text": [
      "100%|██████████| 1875/1875 [00:22<00:00, 83.68it/s]\n",
      "  1%|          | 17/1875 [00:00<00:22, 82.04it/s]"
     ]
    },
    {
     "name": "stdout",
     "output_type": "stream",
     "text": [
      "Epoch: [243/300], Loss D: 0.5387865304946899, Loss G: 1.2328815460205078\n"
     ]
    },
    {
     "name": "stderr",
     "output_type": "stream",
     "text": [
      "100%|██████████| 1875/1875 [00:22<00:00, 84.00it/s]\n",
      "  1%|          | 16/1875 [00:00<00:23, 78.71it/s]"
     ]
    },
    {
     "name": "stdout",
     "output_type": "stream",
     "text": [
      "Epoch: [244/300], Loss D: 0.5764920115470886, Loss G: 1.313656210899353\n"
     ]
    },
    {
     "name": "stderr",
     "output_type": "stream",
     "text": [
      "100%|██████████| 1875/1875 [00:22<00:00, 83.28it/s]\n",
      "  0%|          | 8/1875 [00:00<00:25, 72.44it/s]"
     ]
    },
    {
     "name": "stdout",
     "output_type": "stream",
     "text": [
      "Epoch: [245/300], Loss D: 0.4706007242202759, Loss G: 1.3024479150772095\n"
     ]
    },
    {
     "name": "stderr",
     "output_type": "stream",
     "text": [
      "100%|██████████| 1875/1875 [00:22<00:00, 84.03it/s]\n",
      "  1%|          | 14/1875 [00:00<00:26, 70.24it/s]"
     ]
    },
    {
     "name": "stdout",
     "output_type": "stream",
     "text": [
      "Epoch: [246/300], Loss D: 0.5874605774879456, Loss G: 1.0760973691940308\n"
     ]
    },
    {
     "name": "stderr",
     "output_type": "stream",
     "text": [
      "100%|██████████| 1875/1875 [00:22<00:00, 83.46it/s]\n",
      "  0%|          | 8/1875 [00:00<00:25, 72.20it/s]"
     ]
    },
    {
     "name": "stdout",
     "output_type": "stream",
     "text": [
      "Epoch: [247/300], Loss D: 0.5173457860946655, Loss G: 1.3497328758239746\n"
     ]
    },
    {
     "name": "stderr",
     "output_type": "stream",
     "text": [
      "100%|██████████| 1875/1875 [00:22<00:00, 82.78it/s]\n",
      "  0%|          | 8/1875 [00:00<00:25, 72.11it/s]"
     ]
    },
    {
     "name": "stdout",
     "output_type": "stream",
     "text": [
      "Epoch: [248/300], Loss D: 0.5779799222946167, Loss G: 1.1176440715789795\n"
     ]
    },
    {
     "name": "stderr",
     "output_type": "stream",
     "text": [
      "100%|██████████| 1875/1875 [00:22<00:00, 85.21it/s]\n",
      "  1%|          | 15/1875 [00:00<00:25, 72.78it/s]"
     ]
    },
    {
     "name": "stdout",
     "output_type": "stream",
     "text": [
      "Epoch: [249/300], Loss D: 0.5101592540740967, Loss G: 1.3109543323516846\n"
     ]
    },
    {
     "name": "stderr",
     "output_type": "stream",
     "text": [
      "100%|██████████| 1875/1875 [00:22<00:00, 84.80it/s]\n",
      "  1%|          | 17/1875 [00:00<00:23, 80.66it/s]"
     ]
    },
    {
     "name": "stdout",
     "output_type": "stream",
     "text": [
      "Epoch: [250/300], Loss D: 0.5164306163787842, Loss G: 1.0360900163650513\n"
     ]
    },
    {
     "name": "stderr",
     "output_type": "stream",
     "text": [
      "100%|██████████| 1875/1875 [00:22<00:00, 84.08it/s]\n",
      "  0%|          | 8/1875 [00:00<00:25, 72.48it/s]"
     ]
    },
    {
     "name": "stdout",
     "output_type": "stream",
     "text": [
      "Epoch: [251/300], Loss D: 0.6197327971458435, Loss G: 0.9483058452606201\n"
     ]
    },
    {
     "name": "stderr",
     "output_type": "stream",
     "text": [
      "100%|██████████| 1875/1875 [00:22<00:00, 81.92it/s]\n",
      "  0%|          | 8/1875 [00:00<00:25, 73.30it/s]"
     ]
    },
    {
     "name": "stdout",
     "output_type": "stream",
     "text": [
      "Epoch: [252/300], Loss D: 0.6163649559020996, Loss G: 0.9690015912055969\n"
     ]
    },
    {
     "name": "stderr",
     "output_type": "stream",
     "text": [
      "100%|██████████| 1875/1875 [00:22<00:00, 82.74it/s]\n",
      "  1%|          | 16/1875 [00:00<00:24, 77.01it/s]"
     ]
    },
    {
     "name": "stdout",
     "output_type": "stream",
     "text": [
      "Epoch: [253/300], Loss D: 0.6497595310211182, Loss G: 0.8915001153945923\n"
     ]
    },
    {
     "name": "stderr",
     "output_type": "stream",
     "text": [
      "100%|██████████| 1875/1875 [00:22<00:00, 84.96it/s]\n",
      "  1%|          | 15/1875 [00:00<00:25, 72.64it/s]"
     ]
    },
    {
     "name": "stdout",
     "output_type": "stream",
     "text": [
      "Epoch: [254/300], Loss D: 0.6073007583618164, Loss G: 0.9360157251358032\n"
     ]
    },
    {
     "name": "stderr",
     "output_type": "stream",
     "text": [
      "100%|██████████| 1875/1875 [00:22<00:00, 84.38it/s]\n",
      "  1%|          | 16/1875 [00:00<00:24, 77.06it/s]"
     ]
    },
    {
     "name": "stdout",
     "output_type": "stream",
     "text": [
      "Epoch: [255/300], Loss D: 0.47152382135391235, Loss G: 1.2242003679275513\n"
     ]
    },
    {
     "name": "stderr",
     "output_type": "stream",
     "text": [
      "100%|██████████| 1875/1875 [00:22<00:00, 84.26it/s]\n",
      "  1%|          | 16/1875 [00:00<00:23, 79.99it/s]"
     ]
    },
    {
     "name": "stdout",
     "output_type": "stream",
     "text": [
      "Epoch: [256/300], Loss D: 0.5507656335830688, Loss G: 1.0453355312347412\n"
     ]
    },
    {
     "name": "stderr",
     "output_type": "stream",
     "text": [
      "100%|██████████| 1875/1875 [00:21<00:00, 86.44it/s]\n",
      "  1%|          | 17/1875 [00:00<00:22, 81.35it/s]"
     ]
    },
    {
     "name": "stdout",
     "output_type": "stream",
     "text": [
      "Epoch: [257/300], Loss D: 0.5343363881111145, Loss G: 1.1054327487945557\n"
     ]
    },
    {
     "name": "stderr",
     "output_type": "stream",
     "text": [
      "100%|██████████| 1875/1875 [00:21<00:00, 85.31it/s]\n",
      "  1%|          | 17/1875 [00:00<00:22, 80.90it/s]"
     ]
    },
    {
     "name": "stdout",
     "output_type": "stream",
     "text": [
      "Epoch: [258/300], Loss D: 0.581433117389679, Loss G: 0.8742088675498962\n"
     ]
    },
    {
     "name": "stderr",
     "output_type": "stream",
     "text": [
      "100%|██████████| 1875/1875 [00:22<00:00, 84.48it/s]\n",
      "  1%|          | 17/1875 [00:00<00:22, 81.34it/s]"
     ]
    },
    {
     "name": "stdout",
     "output_type": "stream",
     "text": [
      "Epoch: [259/300], Loss D: 0.5952627658843994, Loss G: 1.0123413801193237\n"
     ]
    },
    {
     "name": "stderr",
     "output_type": "stream",
     "text": [
      "100%|██████████| 1875/1875 [00:22<00:00, 84.49it/s]\n",
      "  1%|          | 17/1875 [00:00<00:22, 81.80it/s]"
     ]
    },
    {
     "name": "stdout",
     "output_type": "stream",
     "text": [
      "Epoch: [260/300], Loss D: 0.6580442190170288, Loss G: 1.0404242277145386\n"
     ]
    },
    {
     "name": "stderr",
     "output_type": "stream",
     "text": [
      "100%|██████████| 1875/1875 [00:22<00:00, 84.64it/s]\n",
      "  0%|          | 8/1875 [00:00<00:25, 72.62it/s]"
     ]
    },
    {
     "name": "stdout",
     "output_type": "stream",
     "text": [
      "Epoch: [261/300], Loss D: 0.5222002267837524, Loss G: 1.0405136346817017\n"
     ]
    },
    {
     "name": "stderr",
     "output_type": "stream",
     "text": [
      "100%|██████████| 1875/1875 [00:22<00:00, 84.47it/s]\n",
      "  1%|          | 17/1875 [00:00<00:22, 81.81it/s]"
     ]
    },
    {
     "name": "stdout",
     "output_type": "stream",
     "text": [
      "Epoch: [262/300], Loss D: 0.5197855234146118, Loss G: 1.2248915433883667\n"
     ]
    },
    {
     "name": "stderr",
     "output_type": "stream",
     "text": [
      "100%|██████████| 1875/1875 [00:21<00:00, 85.43it/s]\n",
      "  1%|          | 17/1875 [00:00<00:22, 81.43it/s]"
     ]
    },
    {
     "name": "stdout",
     "output_type": "stream",
     "text": [
      "Epoch: [263/300], Loss D: 0.5484079122543335, Loss G: 1.2316856384277344\n"
     ]
    },
    {
     "name": "stderr",
     "output_type": "stream",
     "text": [
      "100%|██████████| 1875/1875 [00:21<00:00, 85.61it/s]\n",
      "  1%|          | 17/1875 [00:00<00:22, 81.15it/s]"
     ]
    },
    {
     "name": "stdout",
     "output_type": "stream",
     "text": [
      "Epoch: [264/300], Loss D: 0.5016458034515381, Loss G: 1.0808767080307007\n"
     ]
    },
    {
     "name": "stderr",
     "output_type": "stream",
     "text": [
      "100%|██████████| 1875/1875 [00:21<00:00, 85.55it/s]\n",
      "  1%|          | 16/1875 [00:00<00:23, 77.48it/s]"
     ]
    },
    {
     "name": "stdout",
     "output_type": "stream",
     "text": [
      "Epoch: [265/300], Loss D: 0.6106725931167603, Loss G: 1.1200923919677734\n"
     ]
    },
    {
     "name": "stderr",
     "output_type": "stream",
     "text": [
      "100%|██████████| 1875/1875 [00:22<00:00, 84.34it/s]\n",
      "  0%|          | 7/1875 [00:00<00:30, 62.04it/s]"
     ]
    },
    {
     "name": "stdout",
     "output_type": "stream",
     "text": [
      "Epoch: [266/300], Loss D: 0.4924229383468628, Loss G: 1.0188649892807007\n"
     ]
    },
    {
     "name": "stderr",
     "output_type": "stream",
     "text": [
      "100%|██████████| 1875/1875 [00:22<00:00, 83.67it/s]\n",
      "  1%|          | 16/1875 [00:00<00:23, 79.07it/s]"
     ]
    },
    {
     "name": "stdout",
     "output_type": "stream",
     "text": [
      "Epoch: [267/300], Loss D: 0.5531617999076843, Loss G: 1.1460000276565552\n"
     ]
    },
    {
     "name": "stderr",
     "output_type": "stream",
     "text": [
      "100%|██████████| 1875/1875 [00:22<00:00, 84.90it/s]\n",
      "  1%|          | 17/1875 [00:00<00:22, 81.72it/s]"
     ]
    },
    {
     "name": "stdout",
     "output_type": "stream",
     "text": [
      "Epoch: [268/300], Loss D: 0.538332462310791, Loss G: 1.0576186180114746\n"
     ]
    },
    {
     "name": "stderr",
     "output_type": "stream",
     "text": [
      "100%|██████████| 1875/1875 [00:23<00:00, 80.77it/s]\n",
      "  1%|          | 15/1875 [00:00<00:26, 71.51it/s]"
     ]
    },
    {
     "name": "stdout",
     "output_type": "stream",
     "text": [
      "Epoch: [269/300], Loss D: 0.5110083818435669, Loss G: 1.0804253816604614\n"
     ]
    },
    {
     "name": "stderr",
     "output_type": "stream",
     "text": [
      "100%|██████████| 1875/1875 [00:22<00:00, 83.98it/s]\n",
      "  0%|          | 8/1875 [00:00<00:25, 72.71it/s]"
     ]
    },
    {
     "name": "stdout",
     "output_type": "stream",
     "text": [
      "Epoch: [270/300], Loss D: 0.5530925989151001, Loss G: 1.2609566450119019\n"
     ]
    },
    {
     "name": "stderr",
     "output_type": "stream",
     "text": [
      "100%|██████████| 1875/1875 [00:22<00:00, 82.19it/s]\n",
      "  1%|          | 17/1875 [00:00<00:23, 80.68it/s]"
     ]
    },
    {
     "name": "stdout",
     "output_type": "stream",
     "text": [
      "Epoch: [271/300], Loss D: 0.5542879104614258, Loss G: 0.9649626016616821\n"
     ]
    },
    {
     "name": "stderr",
     "output_type": "stream",
     "text": [
      "100%|██████████| 1875/1875 [00:22<00:00, 84.57it/s]\n",
      "  0%|          | 8/1875 [00:00<00:25, 74.47it/s]"
     ]
    },
    {
     "name": "stdout",
     "output_type": "stream",
     "text": [
      "Epoch: [272/300], Loss D: 0.5226456522941589, Loss G: 1.1965761184692383\n"
     ]
    },
    {
     "name": "stderr",
     "output_type": "stream",
     "text": [
      "100%|██████████| 1875/1875 [00:22<00:00, 84.88it/s]\n",
      "  1%|          | 17/1875 [00:00<00:22, 81.83it/s]"
     ]
    },
    {
     "name": "stdout",
     "output_type": "stream",
     "text": [
      "Epoch: [273/300], Loss D: 0.5641021728515625, Loss G: 1.0938327312469482\n"
     ]
    },
    {
     "name": "stderr",
     "output_type": "stream",
     "text": [
      "100%|██████████| 1875/1875 [00:21<00:00, 85.59it/s]\n",
      "  1%|          | 17/1875 [00:00<00:22, 80.88it/s]"
     ]
    },
    {
     "name": "stdout",
     "output_type": "stream",
     "text": [
      "Epoch: [274/300], Loss D: 0.46223169565200806, Loss G: 1.1643675565719604\n"
     ]
    },
    {
     "name": "stderr",
     "output_type": "stream",
     "text": [
      "100%|██████████| 1875/1875 [00:22<00:00, 85.10it/s]\n",
      "  1%|          | 16/1875 [00:00<00:24, 76.55it/s]"
     ]
    },
    {
     "name": "stdout",
     "output_type": "stream",
     "text": [
      "Epoch: [275/300], Loss D: 0.4969606399536133, Loss G: 0.9790546894073486\n"
     ]
    },
    {
     "name": "stderr",
     "output_type": "stream",
     "text": [
      "100%|██████████| 1875/1875 [00:22<00:00, 83.99it/s]\n",
      "  1%|          | 17/1875 [00:00<00:23, 80.59it/s]"
     ]
    },
    {
     "name": "stdout",
     "output_type": "stream",
     "text": [
      "Epoch: [276/300], Loss D: 0.552363932132721, Loss G: 0.9675489068031311\n"
     ]
    },
    {
     "name": "stderr",
     "output_type": "stream",
     "text": [
      "100%|██████████| 1875/1875 [00:22<00:00, 84.74it/s]\n",
      "  0%|          | 8/1875 [00:00<00:25, 72.55it/s]"
     ]
    },
    {
     "name": "stdout",
     "output_type": "stream",
     "text": [
      "Epoch: [277/300], Loss D: 0.5503601431846619, Loss G: 1.0735273361206055\n"
     ]
    },
    {
     "name": "stderr",
     "output_type": "stream",
     "text": [
      "100%|██████████| 1875/1875 [00:22<00:00, 85.03it/s]\n",
      "  1%|          | 17/1875 [00:00<00:23, 80.30it/s]"
     ]
    },
    {
     "name": "stdout",
     "output_type": "stream",
     "text": [
      "Epoch: [278/300], Loss D: 0.6841732859611511, Loss G: 1.078432559967041\n"
     ]
    },
    {
     "name": "stderr",
     "output_type": "stream",
     "text": [
      "100%|██████████| 1875/1875 [00:22<00:00, 83.64it/s]\n",
      "  1%|          | 17/1875 [00:00<00:23, 80.69it/s]"
     ]
    },
    {
     "name": "stdout",
     "output_type": "stream",
     "text": [
      "Epoch: [279/300], Loss D: 0.5263841152191162, Loss G: 1.4225733280181885\n"
     ]
    },
    {
     "name": "stderr",
     "output_type": "stream",
     "text": [
      "100%|██████████| 1875/1875 [00:21<00:00, 85.32it/s]\n",
      "  1%|          | 14/1875 [00:00<00:27, 67.10it/s]"
     ]
    },
    {
     "name": "stdout",
     "output_type": "stream",
     "text": [
      "Epoch: [280/300], Loss D: 0.597055196762085, Loss G: 0.9979624152183533\n"
     ]
    },
    {
     "name": "stderr",
     "output_type": "stream",
     "text": [
      "100%|██████████| 1875/1875 [00:21<00:00, 85.29it/s]\n",
      "  1%|          | 16/1875 [00:00<00:24, 76.71it/s]"
     ]
    },
    {
     "name": "stdout",
     "output_type": "stream",
     "text": [
      "Epoch: [281/300], Loss D: 0.4806320071220398, Loss G: 1.182847261428833\n"
     ]
    },
    {
     "name": "stderr",
     "output_type": "stream",
     "text": [
      "100%|██████████| 1875/1875 [00:21<00:00, 85.79it/s]\n",
      "  1%|          | 16/1875 [00:00<00:23, 77.89it/s]"
     ]
    },
    {
     "name": "stdout",
     "output_type": "stream",
     "text": [
      "Epoch: [282/300], Loss D: 0.5867268443107605, Loss G: 1.0882269144058228\n"
     ]
    },
    {
     "name": "stderr",
     "output_type": "stream",
     "text": [
      "100%|██████████| 1875/1875 [00:22<00:00, 82.11it/s]\n",
      "  1%|          | 16/1875 [00:00<00:24, 76.65it/s]"
     ]
    },
    {
     "name": "stdout",
     "output_type": "stream",
     "text": [
      "Epoch: [283/300], Loss D: 0.5875529646873474, Loss G: 1.258036732673645\n"
     ]
    },
    {
     "name": "stderr",
     "output_type": "stream",
     "text": [
      "100%|██████████| 1875/1875 [00:22<00:00, 83.64it/s]\n",
      "  1%|          | 17/1875 [00:00<00:23, 80.61it/s]"
     ]
    },
    {
     "name": "stdout",
     "output_type": "stream",
     "text": [
      "Epoch: [284/300], Loss D: 0.5301288962364197, Loss G: 1.0620120763778687\n"
     ]
    },
    {
     "name": "stderr",
     "output_type": "stream",
     "text": [
      "100%|██████████| 1875/1875 [00:22<00:00, 84.49it/s]\n",
      "  0%|          | 8/1875 [00:00<00:25, 73.94it/s]"
     ]
    },
    {
     "name": "stdout",
     "output_type": "stream",
     "text": [
      "Epoch: [285/300], Loss D: 0.4952189326286316, Loss G: 1.1919646263122559\n"
     ]
    },
    {
     "name": "stderr",
     "output_type": "stream",
     "text": [
      "100%|██████████| 1875/1875 [00:21<00:00, 86.10it/s]\n",
      "  1%|          | 17/1875 [00:00<00:22, 81.28it/s]"
     ]
    },
    {
     "name": "stdout",
     "output_type": "stream",
     "text": [
      "Epoch: [286/300], Loss D: 0.5098481774330139, Loss G: 1.18678617477417\n"
     ]
    },
    {
     "name": "stderr",
     "output_type": "stream",
     "text": [
      "100%|██████████| 1875/1875 [00:22<00:00, 84.96it/s]\n",
      "  1%|          | 16/1875 [00:00<00:23, 78.31it/s]"
     ]
    },
    {
     "name": "stdout",
     "output_type": "stream",
     "text": [
      "Epoch: [287/300], Loss D: 0.5542159080505371, Loss G: 1.1406958103179932\n"
     ]
    },
    {
     "name": "stderr",
     "output_type": "stream",
     "text": [
      "100%|██████████| 1875/1875 [00:22<00:00, 84.81it/s]\n",
      "  1%|          | 17/1875 [00:00<00:23, 80.74it/s]"
     ]
    },
    {
     "name": "stdout",
     "output_type": "stream",
     "text": [
      "Epoch: [288/300], Loss D: 0.5769472122192383, Loss G: 1.2827180624008179\n"
     ]
    },
    {
     "name": "stderr",
     "output_type": "stream",
     "text": [
      "100%|██████████| 1875/1875 [00:22<00:00, 84.62it/s]\n",
      "  0%|          | 8/1875 [00:00<00:25, 72.15it/s]"
     ]
    },
    {
     "name": "stdout",
     "output_type": "stream",
     "text": [
      "Epoch: [289/300], Loss D: 0.5255450010299683, Loss G: 1.0638617277145386\n"
     ]
    },
    {
     "name": "stderr",
     "output_type": "stream",
     "text": [
      "100%|██████████| 1875/1875 [00:21<00:00, 85.50it/s]\n",
      "  1%|          | 17/1875 [00:00<00:22, 81.63it/s]"
     ]
    },
    {
     "name": "stdout",
     "output_type": "stream",
     "text": [
      "Epoch: [290/300], Loss D: 0.5276719331741333, Loss G: 1.2657802104949951\n"
     ]
    },
    {
     "name": "stderr",
     "output_type": "stream",
     "text": [
      "100%|██████████| 1875/1875 [00:21<00:00, 85.57it/s]\n",
      "  0%|          | 8/1875 [00:00<00:25, 73.40it/s]"
     ]
    },
    {
     "name": "stdout",
     "output_type": "stream",
     "text": [
      "Epoch: [291/300], Loss D: 0.5352855920791626, Loss G: 0.9886067509651184\n"
     ]
    },
    {
     "name": "stderr",
     "output_type": "stream",
     "text": [
      "100%|██████████| 1875/1875 [00:22<00:00, 85.22it/s]\n",
      "  1%|          | 17/1875 [00:00<00:22, 80.85it/s]"
     ]
    },
    {
     "name": "stdout",
     "output_type": "stream",
     "text": [
      "Epoch: [292/300], Loss D: 0.4875335693359375, Loss G: 1.2572461366653442\n"
     ]
    },
    {
     "name": "stderr",
     "output_type": "stream",
     "text": [
      "100%|██████████| 1875/1875 [00:22<00:00, 84.65it/s]\n",
      "  0%|          | 8/1875 [00:00<00:25, 73.19it/s]"
     ]
    },
    {
     "name": "stdout",
     "output_type": "stream",
     "text": [
      "Epoch: [293/300], Loss D: 0.5992008447647095, Loss G: 1.0741350650787354\n"
     ]
    },
    {
     "name": "stderr",
     "output_type": "stream",
     "text": [
      "100%|██████████| 1875/1875 [00:26<00:00, 71.57it/s]\n",
      "  1%|          | 11/1875 [00:00<00:36, 51.11it/s]"
     ]
    },
    {
     "name": "stdout",
     "output_type": "stream",
     "text": [
      "Epoch: [294/300], Loss D: 0.5731502175331116, Loss G: 0.8636196851730347\n"
     ]
    },
    {
     "name": "stderr",
     "output_type": "stream",
     "text": [
      "100%|██████████| 1875/1875 [00:31<00:00, 59.62it/s]\n",
      "  1%|          | 13/1875 [00:00<00:29, 63.28it/s]"
     ]
    },
    {
     "name": "stdout",
     "output_type": "stream",
     "text": [
      "Epoch: [295/300], Loss D: 0.595200777053833, Loss G: 1.1671502590179443\n"
     ]
    },
    {
     "name": "stderr",
     "output_type": "stream",
     "text": [
      "100%|██████████| 1875/1875 [00:25<00:00, 73.21it/s]\n",
      "  1%|          | 15/1875 [00:00<00:25, 72.04it/s]"
     ]
    },
    {
     "name": "stdout",
     "output_type": "stream",
     "text": [
      "Epoch: [296/300], Loss D: 0.5593127012252808, Loss G: 1.2224507331848145\n"
     ]
    },
    {
     "name": "stderr",
     "output_type": "stream",
     "text": [
      "100%|██████████| 1875/1875 [00:23<00:00, 78.35it/s]\n",
      "  1%|          | 13/1875 [00:00<00:29, 63.69it/s]"
     ]
    },
    {
     "name": "stdout",
     "output_type": "stream",
     "text": [
      "Epoch: [297/300], Loss D: 0.43574294447898865, Loss G: 1.3456902503967285\n"
     ]
    },
    {
     "name": "stderr",
     "output_type": "stream",
     "text": [
      "100%|██████████| 1875/1875 [00:23<00:00, 78.18it/s]\n",
      "  1%|          | 14/1875 [00:00<00:27, 68.66it/s]"
     ]
    },
    {
     "name": "stdout",
     "output_type": "stream",
     "text": [
      "Epoch: [298/300], Loss D: 0.5250856876373291, Loss G: 1.2601988315582275\n"
     ]
    },
    {
     "name": "stderr",
     "output_type": "stream",
     "text": [
      "100%|██████████| 1875/1875 [00:24<00:00, 77.79it/s]\n",
      "  1%|          | 15/1875 [00:00<00:25, 72.45it/s]"
     ]
    },
    {
     "name": "stdout",
     "output_type": "stream",
     "text": [
      "Epoch: [299/300], Loss D: 0.4934687912464142, Loss G: 1.1936777830123901\n"
     ]
    },
    {
     "name": "stderr",
     "output_type": "stream",
     "text": [
      "100%|██████████| 1875/1875 [00:24<00:00, 77.78it/s]\n"
     ]
    }
   ],
   "source": [
    "for epoch in range(N_EPOCHS):\n",
    "    for batch_idx, (real, _) in enumerate(tqdm(train_loader)):\n",
    "        real = real.view(-1, 784).to(device=DEVICE)\n",
    "        batch_size = real.shape[0]\n",
    "        \n",
    "        # Train Discriminator: max log(D(real)) + log(1 - D(G(z)))\n",
    "        noise = torch.randn(batch_size, Z_DIM).to(device=DEVICE)\n",
    "        \n",
    "        fake = gen(noise)\n",
    "        disc_real = disc(real).view(-1)\n",
    "        lossD_real = loss(disc_real, torch.ones_like(disc_real))\n",
    "        \n",
    "        disc_fake = disc(fake).view(-1)\n",
    "        lossD_fake = loss(disc_fake, torch.zeros_like(disc_fake))\n",
    "        \n",
    "        lossD = (lossD_real + lossD_fake) / 2\n",
    "        \n",
    "        disc.zero_grad()\n",
    "        lossD.backward(retain_graph=True)\n",
    "        disc.optimizer.step()\n",
    "        \n",
    "        preds = disc(fake).view(-1)\n",
    "        lossG = loss(preds, torch.ones_like(preds))\n",
    "        \n",
    "        gen.zero_grad()\n",
    "        lossG.backward()\n",
    "        gen.optimizer.step()\n",
    "        \n",
    "        if batch_idx == 0:\n",
    "            print(f\"Epoch: [{epoch}/{N_EPOCHS}], Loss D: {lossD}, Loss G: {lossG}\")\n",
    "            \n",
    "            with torch.no_grad():\n",
    "                fake = gen(fixed_noise).reshape(-1, 1, 28, 28)\n",
    "                data = real.reshape(-1, 1, 28, 28)\n",
    "                \n",
    "                image_grid_fake = torchvision.utils.make_grid(fake, normalize=True)\n",
    "                image_grid_real = torchvision.utils.make_grid(data, normalize=True)\n",
    "                \n",
    "                writer_fake.add_image(\"MNIST Fake Images\", image_grid_fake, global_step=step)\n",
    "                writer_real.add_image(\"MNIST Real Images\", image_grid_real, global_step=step)\n",
    "                \n",
    "                step += 1"
   ]
  },
  {
   "cell_type": "code",
   "execution_count": 15,
   "id": "138b5946",
   "metadata": {},
   "outputs": [],
   "source": [
    "# In perfect world discriminator should be 50/50 because it doesn't understand the difference between image\n",
    "# from dataset and one that was generater"
   ]
  },
  {
   "cell_type": "code",
   "execution_count": null,
   "id": "643d9194",
   "metadata": {},
   "outputs": [],
   "source": []
  }
 ],
 "metadata": {
  "kernelspec": {
   "display_name": "Python 3",
   "language": "python",
   "name": "python3"
  },
  "language_info": {
   "codemirror_mode": {
    "name": "ipython",
    "version": 3
   },
   "file_extension": ".py",
   "mimetype": "text/x-python",
   "name": "python",
   "nbconvert_exporter": "python",
   "pygments_lexer": "ipython3",
   "version": "3.8.10"
  }
 },
 "nbformat": 4,
 "nbformat_minor": 5
}
